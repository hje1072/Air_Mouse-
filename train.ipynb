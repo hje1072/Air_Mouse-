{
  "cells": [
    {
      "cell_type": "markdown",
      "source": [
        "-들어가기전 버전 맞춰주기"
      ],
      "metadata": {
        "id": "OWObI5qsHH3_"
      }
    },
    {
      "cell_type": "code",
      "source": [
        "!pip uninstall tensorflow\n",
        "!pip install tensorflow==2.16.1"
      ],
      "metadata": {
        "colab": {
          "base_uri": "https://localhost:8080/",
          "height": 1000
        },
        "id": "bD9FMW7aEQvQ",
        "outputId": "9a013184-159b-46c2-9473-57ef8c60ed22"
      },
      "execution_count": 16,
      "outputs": [
        {
          "output_type": "stream",
          "name": "stdout",
          "text": [
            "Found existing installation: tensorflow 2.16.1\n",
            "Uninstalling tensorflow-2.16.1:\n",
            "  Would remove:\n",
            "    /usr/local/bin/import_pb_to_tensorboard\n",
            "    /usr/local/bin/saved_model_cli\n",
            "    /usr/local/bin/tensorboard\n",
            "    /usr/local/bin/tf_upgrade_v2\n",
            "    /usr/local/bin/tflite_convert\n",
            "    /usr/local/bin/toco\n",
            "    /usr/local/bin/toco_from_protos\n",
            "    /usr/local/lib/python3.10/dist-packages/tensorflow-2.16.1.dist-info/*\n",
            "    /usr/local/lib/python3.10/dist-packages/tensorflow/*\n",
            "Proceed (Y/n)? Y\n",
            "  Successfully uninstalled tensorflow-2.16.1\n",
            "Collecting tensorflow==2.16.1\n",
            "  Using cached tensorflow-2.16.1-cp310-cp310-manylinux_2_17_x86_64.manylinux2014_x86_64.whl (589.8 MB)\n",
            "Requirement already satisfied: absl-py>=1.0.0 in /usr/local/lib/python3.10/dist-packages (from tensorflow==2.16.1) (1.4.0)\n",
            "Requirement already satisfied: astunparse>=1.6.0 in /usr/local/lib/python3.10/dist-packages (from tensorflow==2.16.1) (1.6.3)\n",
            "Requirement already satisfied: flatbuffers>=23.5.26 in /usr/local/lib/python3.10/dist-packages (from tensorflow==2.16.1) (24.3.25)\n",
            "Requirement already satisfied: gast!=0.5.0,!=0.5.1,!=0.5.2,>=0.2.1 in /usr/local/lib/python3.10/dist-packages (from tensorflow==2.16.1) (0.5.4)\n",
            "Requirement already satisfied: google-pasta>=0.1.1 in /usr/local/lib/python3.10/dist-packages (from tensorflow==2.16.1) (0.2.0)\n",
            "Requirement already satisfied: h5py>=3.10.0 in /usr/local/lib/python3.10/dist-packages (from tensorflow==2.16.1) (3.11.0)\n",
            "Requirement already satisfied: libclang>=13.0.0 in /usr/local/lib/python3.10/dist-packages (from tensorflow==2.16.1) (18.1.1)\n",
            "Requirement already satisfied: ml-dtypes~=0.3.1 in /usr/local/lib/python3.10/dist-packages (from tensorflow==2.16.1) (0.3.2)\n",
            "Requirement already satisfied: opt-einsum>=2.3.2 in /usr/local/lib/python3.10/dist-packages (from tensorflow==2.16.1) (3.3.0)\n",
            "Requirement already satisfied: packaging in /usr/local/lib/python3.10/dist-packages (from tensorflow==2.16.1) (24.0)\n",
            "Requirement already satisfied: protobuf!=4.21.0,!=4.21.1,!=4.21.2,!=4.21.3,!=4.21.4,!=4.21.5,<5.0.0dev,>=3.20.3 in /usr/local/lib/python3.10/dist-packages (from tensorflow==2.16.1) (3.20.3)\n",
            "Requirement already satisfied: requests<3,>=2.21.0 in /usr/local/lib/python3.10/dist-packages (from tensorflow==2.16.1) (2.31.0)\n",
            "Requirement already satisfied: setuptools in /usr/local/lib/python3.10/dist-packages (from tensorflow==2.16.1) (67.7.2)\n",
            "Requirement already satisfied: six>=1.12.0 in /usr/local/lib/python3.10/dist-packages (from tensorflow==2.16.1) (1.16.0)\n",
            "Requirement already satisfied: termcolor>=1.1.0 in /usr/local/lib/python3.10/dist-packages (from tensorflow==2.16.1) (2.4.0)\n",
            "Requirement already satisfied: typing-extensions>=3.6.6 in /usr/local/lib/python3.10/dist-packages (from tensorflow==2.16.1) (4.11.0)\n",
            "Requirement already satisfied: wrapt>=1.11.0 in /usr/local/lib/python3.10/dist-packages (from tensorflow==2.16.1) (1.14.1)\n",
            "Requirement already satisfied: grpcio<2.0,>=1.24.3 in /usr/local/lib/python3.10/dist-packages (from tensorflow==2.16.1) (1.64.0)\n",
            "Requirement already satisfied: tensorboard<2.17,>=2.16 in /usr/local/lib/python3.10/dist-packages (from tensorflow==2.16.1) (2.16.2)\n",
            "Requirement already satisfied: keras>=3.0.0 in /usr/local/lib/python3.10/dist-packages (from tensorflow==2.16.1) (3.3.3)\n",
            "Requirement already satisfied: tensorflow-io-gcs-filesystem>=0.23.1 in /usr/local/lib/python3.10/dist-packages (from tensorflow==2.16.1) (0.37.0)\n",
            "Requirement already satisfied: numpy<2.0.0,>=1.23.5 in /usr/local/lib/python3.10/dist-packages (from tensorflow==2.16.1) (1.25.2)\n",
            "Requirement already satisfied: wheel<1.0,>=0.23.0 in /usr/local/lib/python3.10/dist-packages (from astunparse>=1.6.0->tensorflow==2.16.1) (0.43.0)\n",
            "Requirement already satisfied: rich in /usr/local/lib/python3.10/dist-packages (from keras>=3.0.0->tensorflow==2.16.1) (13.7.1)\n",
            "Requirement already satisfied: namex in /usr/local/lib/python3.10/dist-packages (from keras>=3.0.0->tensorflow==2.16.1) (0.0.8)\n",
            "Requirement already satisfied: optree in /usr/local/lib/python3.10/dist-packages (from keras>=3.0.0->tensorflow==2.16.1) (0.11.0)\n",
            "Requirement already satisfied: charset-normalizer<4,>=2 in /usr/local/lib/python3.10/dist-packages (from requests<3,>=2.21.0->tensorflow==2.16.1) (3.3.2)\n",
            "Requirement already satisfied: idna<4,>=2.5 in /usr/local/lib/python3.10/dist-packages (from requests<3,>=2.21.0->tensorflow==2.16.1) (3.7)\n",
            "Requirement already satisfied: urllib3<3,>=1.21.1 in /usr/local/lib/python3.10/dist-packages (from requests<3,>=2.21.0->tensorflow==2.16.1) (2.0.7)\n",
            "Requirement already satisfied: certifi>=2017.4.17 in /usr/local/lib/python3.10/dist-packages (from requests<3,>=2.21.0->tensorflow==2.16.1) (2024.2.2)\n",
            "Requirement already satisfied: markdown>=2.6.8 in /usr/local/lib/python3.10/dist-packages (from tensorboard<2.17,>=2.16->tensorflow==2.16.1) (3.6)\n",
            "Requirement already satisfied: tensorboard-data-server<0.8.0,>=0.7.0 in /usr/local/lib/python3.10/dist-packages (from tensorboard<2.17,>=2.16->tensorflow==2.16.1) (0.7.2)\n",
            "Requirement already satisfied: werkzeug>=1.0.1 in /usr/local/lib/python3.10/dist-packages (from tensorboard<2.17,>=2.16->tensorflow==2.16.1) (3.0.3)\n",
            "Requirement already satisfied: MarkupSafe>=2.1.1 in /usr/local/lib/python3.10/dist-packages (from werkzeug>=1.0.1->tensorboard<2.17,>=2.16->tensorflow==2.16.1) (2.1.5)\n",
            "Requirement already satisfied: markdown-it-py>=2.2.0 in /usr/local/lib/python3.10/dist-packages (from rich->keras>=3.0.0->tensorflow==2.16.1) (3.0.0)\n",
            "Requirement already satisfied: pygments<3.0.0,>=2.13.0 in /usr/local/lib/python3.10/dist-packages (from rich->keras>=3.0.0->tensorflow==2.16.1) (2.16.1)\n",
            "Requirement already satisfied: mdurl~=0.1 in /usr/local/lib/python3.10/dist-packages (from markdown-it-py>=2.2.0->rich->keras>=3.0.0->tensorflow==2.16.1) (0.1.2)\n",
            "Installing collected packages: tensorflow\n",
            "\u001b[31mERROR: pip's dependency resolver does not currently take into account all the packages that are installed. This behaviour is the source of the following dependency conflicts.\n",
            "tf-keras 2.15.1 requires tensorflow<2.16,>=2.15, but you have tensorflow 2.16.1 which is incompatible.\u001b[0m\u001b[31m\n",
            "\u001b[0mSuccessfully installed tensorflow-2.16.1\n"
          ]
        },
        {
          "output_type": "display_data",
          "data": {
            "application/vnd.colab-display-data+json": {
              "pip_warning": {
                "packages": [
                  "tensorflow"
                ]
              },
              "id": "c3349393fb9246e6821019bf12262ab1"
            }
          },
          "metadata": {}
        }
      ]
    },
    {
      "cell_type": "code",
      "source": [
        "!pip uninstall keras\n",
        "!pip install keras==3.3.3"
      ],
      "metadata": {
        "colab": {
          "base_uri": "https://localhost:8080/",
          "height": 580
        },
        "id": "vViVM30uGtbI",
        "outputId": "0c5f6fcd-0a2f-4a50-c7c6-0e8f636e3518"
      },
      "execution_count": 3,
      "outputs": [
        {
          "output_type": "stream",
          "name": "stdout",
          "text": [
            "Found existing installation: keras 3.3.3\n",
            "Uninstalling keras-3.3.3:\n",
            "  Would remove:\n",
            "    /usr/local/lib/python3.10/dist-packages/keras-3.3.3.dist-info/*\n",
            "    /usr/local/lib/python3.10/dist-packages/keras/*\n",
            "Proceed (Y/n)? Y\n",
            "  Successfully uninstalled keras-3.3.3\n",
            "Collecting keras==3.3.3\n",
            "  Using cached keras-3.3.3-py3-none-any.whl (1.1 MB)\n",
            "Requirement already satisfied: absl-py in /usr/local/lib/python3.10/dist-packages (from keras==3.3.3) (1.4.0)\n",
            "Requirement already satisfied: numpy in /usr/local/lib/python3.10/dist-packages (from keras==3.3.3) (1.25.2)\n",
            "Requirement already satisfied: rich in /usr/local/lib/python3.10/dist-packages (from keras==3.3.3) (13.7.1)\n",
            "Requirement already satisfied: namex in /usr/local/lib/python3.10/dist-packages (from keras==3.3.3) (0.0.8)\n",
            "Requirement already satisfied: h5py in /usr/local/lib/python3.10/dist-packages (from keras==3.3.3) (3.11.0)\n",
            "Requirement already satisfied: optree in /usr/local/lib/python3.10/dist-packages (from keras==3.3.3) (0.11.0)\n",
            "Requirement already satisfied: ml-dtypes in /usr/local/lib/python3.10/dist-packages (from keras==3.3.3) (0.3.2)\n",
            "Requirement already satisfied: typing-extensions>=4.0.0 in /usr/local/lib/python3.10/dist-packages (from optree->keras==3.3.3) (4.11.0)\n",
            "Requirement already satisfied: markdown-it-py>=2.2.0 in /usr/local/lib/python3.10/dist-packages (from rich->keras==3.3.3) (3.0.0)\n",
            "Requirement already satisfied: pygments<3.0.0,>=2.13.0 in /usr/local/lib/python3.10/dist-packages (from rich->keras==3.3.3) (2.16.1)\n",
            "Requirement already satisfied: mdurl~=0.1 in /usr/local/lib/python3.10/dist-packages (from markdown-it-py>=2.2.0->rich->keras==3.3.3) (0.1.2)\n",
            "Installing collected packages: keras\n",
            "\u001b[31mERROR: pip's dependency resolver does not currently take into account all the packages that are installed. This behaviour is the source of the following dependency conflicts.\n",
            "tf-keras 2.15.1 requires tensorflow<2.16,>=2.15, but you have tensorflow 2.16.1 which is incompatible.\u001b[0m\u001b[31m\n",
            "\u001b[0mSuccessfully installed keras-3.3.3\n"
          ]
        },
        {
          "output_type": "display_data",
          "data": {
            "application/vnd.colab-display-data+json": {
              "pip_warning": {
                "packages": [
                  "keras"
                ]
              },
              "id": "1eea5550045942098fffbe14fd8b5d71"
            }
          },
          "metadata": {}
        }
      ]
    },
    {
      "cell_type": "code",
      "execution_count": 2,
      "metadata": {
        "id": "xo3YEeNpmf8Z",
        "colab": {
          "base_uri": "https://localhost:8080/"
        },
        "outputId": "78e0536a-fc14-40e8-9a9a-a37de0e80ed9"
      },
      "outputs": [
        {
          "output_type": "stream",
          "name": "stdout",
          "text": [
            "2.16.1\n",
            "3.3.3\n"
          ]
        }
      ],
      "source": [
        "import tensorflow as tf\n",
        "import keras\n",
        "\n",
        "print(tf.__version__)\n",
        "print(keras.__version__)"
      ]
    },
    {
      "cell_type": "markdown",
      "source": [
        "- train"
      ],
      "metadata": {
        "id": "dP7dk0GoHMtZ"
      }
    },
    {
      "cell_type": "code",
      "execution_count": 3,
      "metadata": {
        "id": "3mwvp83Zmf8a",
        "outputId": "c5245e26-e1aa-4ed5-9884-878db87e661a",
        "colab": {
          "base_uri": "https://localhost:8080/"
        }
      },
      "outputs": [
        {
          "output_type": "execute_result",
          "data": {
            "text/plain": [
              "(2600, 30, 100)"
            ]
          },
          "metadata": {},
          "execution_count": 3
        }
      ],
      "source": [
        "#데이터 불러오기\n",
        "actions = [\n",
        "    'push',\n",
        "    'hand_shake',\n",
        "    'spin'\n",
        "]\n",
        "\n",
        "data = np.concatenate([\n",
        "    np.load('sample_data/seq_push_1717166069.npy'),\n",
        "    np.load('sample_data/seq_hand_shake_1717166069.npy'),\n",
        "    np.load('sample_data/seq_spin_1717166069.npy')\n",
        "], axis=0)\n",
        "\n",
        "data.shape"
      ]
    },
    {
      "cell_type": "code",
      "execution_count": 4,
      "metadata": {
        "id": "EJaNizw2mf8b",
        "outputId": "785bc7a6-e00a-47cb-96c3-ec1ed75a8511",
        "colab": {
          "base_uri": "https://localhost:8080/"
        }
      },
      "outputs": [
        {
          "output_type": "stream",
          "name": "stdout",
          "text": [
            "(2600, 30, 99)\n",
            "(2600,)\n"
          ]
        }
      ],
      "source": [
        "#라벨, 데이터 구분.\n",
        "x_data = data[:, :, :-1]\n",
        "labels = data[:, 0, -1]\n",
        "\n",
        "print(x_data.shape)\n",
        "print(labels.shape)"
      ]
    },
    {
      "cell_type": "code",
      "execution_count": 5,
      "metadata": {
        "id": "X-OU_F_vmf8b",
        "outputId": "1ca3856d-9cb1-4fcb-cc20-89cdd6e2c901",
        "colab": {
          "base_uri": "https://localhost:8080/"
        }
      },
      "outputs": [
        {
          "output_type": "execute_result",
          "data": {
            "text/plain": [
              "(2600, 3)"
            ]
          },
          "metadata": {},
          "execution_count": 5
        }
      ],
      "source": [
        "from tensorflow.keras.utils import to_categorical\n",
        "\n",
        "y_data = to_categorical(labels, num_classes=len(actions))\n",
        "y_data.shape"
      ]
    },
    {
      "cell_type": "code",
      "execution_count": 6,
      "metadata": {
        "id": "WIQxxebbmf8b",
        "outputId": "1f64ca94-773c-428c-a378-717a02efd7a1",
        "colab": {
          "base_uri": "https://localhost:8080/"
        }
      },
      "outputs": [
        {
          "output_type": "stream",
          "name": "stdout",
          "text": [
            "(2340, 30, 99) (2340, 3)\n",
            "(260, 30, 99) (260, 3)\n"
          ]
        }
      ],
      "source": [
        "from sklearn.model_selection import train_test_split\n",
        "\n",
        "x_data = x_data.astype(np.float32)\n",
        "y_data = y_data.astype(np.float32)\n",
        "\n",
        "x_train, x_val, y_train, y_val = train_test_split(x_data, y_data, test_size=0.1, random_state=2021)\n",
        "\n",
        "print(x_train.shape, y_train.shape)\n",
        "print(x_val.shape, y_val.shape)"
      ]
    },
    {
      "cell_type": "code",
      "execution_count": 7,
      "metadata": {
        "id": "7ED-aqhUmf8b",
        "outputId": "28bb3f55-adce-4204-aafe-82729d6d229f",
        "colab": {
          "base_uri": "https://localhost:8080/",
          "height": 312
        }
      },
      "outputs": [
        {
          "output_type": "stream",
          "name": "stderr",
          "text": [
            "/usr/local/lib/python3.10/dist-packages/keras/src/layers/rnn/rnn.py:204: UserWarning: Do not pass an `input_shape`/`input_dim` argument to a layer. When using Sequential models, prefer using an `Input(shape)` object as the first layer in the model instead.\n",
            "  super().__init__(**kwargs)\n"
          ]
        },
        {
          "output_type": "display_data",
          "data": {
            "text/plain": [
              "\u001b[1mModel: \"sequential\"\u001b[0m\n"
            ],
            "text/html": [
              "<pre style=\"white-space:pre;overflow-x:auto;line-height:normal;font-family:Menlo,'DejaVu Sans Mono',consolas,'Courier New',monospace\"><span style=\"font-weight: bold\">Model: \"sequential\"</span>\n",
              "</pre>\n"
            ]
          },
          "metadata": {}
        },
        {
          "output_type": "display_data",
          "data": {
            "text/plain": [
              "┏━━━━━━━━━━━━━━━━━━━━━━━━━━━━━━━━━━━━━━┳━━━━━━━━━━━━━━━━━━━━━━━━━━━━━┳━━━━━━━━━━━━━━━━━┓\n",
              "┃\u001b[1m \u001b[0m\u001b[1mLayer (type)                        \u001b[0m\u001b[1m \u001b[0m┃\u001b[1m \u001b[0m\u001b[1mOutput Shape               \u001b[0m\u001b[1m \u001b[0m┃\u001b[1m \u001b[0m\u001b[1m        Param #\u001b[0m\u001b[1m \u001b[0m┃\n",
              "┡━━━━━━━━━━━━━━━━━━━━━━━━━━━━━━━━━━━━━━╇━━━━━━━━━━━━━━━━━━━━━━━━━━━━━╇━━━━━━━━━━━━━━━━━┩\n",
              "│ lstm (\u001b[38;5;33mLSTM\u001b[0m)                          │ (\u001b[38;5;45mNone\u001b[0m, \u001b[38;5;34m64\u001b[0m)                  │          \u001b[38;5;34m41,984\u001b[0m │\n",
              "├──────────────────────────────────────┼─────────────────────────────┼─────────────────┤\n",
              "│ dense (\u001b[38;5;33mDense\u001b[0m)                        │ (\u001b[38;5;45mNone\u001b[0m, \u001b[38;5;34m32\u001b[0m)                  │           \u001b[38;5;34m2,080\u001b[0m │\n",
              "├──────────────────────────────────────┼─────────────────────────────┼─────────────────┤\n",
              "│ dense_1 (\u001b[38;5;33mDense\u001b[0m)                      │ (\u001b[38;5;45mNone\u001b[0m, \u001b[38;5;34m3\u001b[0m)                   │              \u001b[38;5;34m99\u001b[0m │\n",
              "└──────────────────────────────────────┴─────────────────────────────┴─────────────────┘\n"
            ],
            "text/html": [
              "<pre style=\"white-space:pre;overflow-x:auto;line-height:normal;font-family:Menlo,'DejaVu Sans Mono',consolas,'Courier New',monospace\">┏━━━━━━━━━━━━━━━━━━━━━━━━━━━━━━━━━━━━━━┳━━━━━━━━━━━━━━━━━━━━━━━━━━━━━┳━━━━━━━━━━━━━━━━━┓\n",
              "┃<span style=\"font-weight: bold\"> Layer (type)                         </span>┃<span style=\"font-weight: bold\"> Output Shape                </span>┃<span style=\"font-weight: bold\">         Param # </span>┃\n",
              "┡━━━━━━━━━━━━━━━━━━━━━━━━━━━━━━━━━━━━━━╇━━━━━━━━━━━━━━━━━━━━━━━━━━━━━╇━━━━━━━━━━━━━━━━━┩\n",
              "│ lstm (<span style=\"color: #0087ff; text-decoration-color: #0087ff\">LSTM</span>)                          │ (<span style=\"color: #00d7ff; text-decoration-color: #00d7ff\">None</span>, <span style=\"color: #00af00; text-decoration-color: #00af00\">64</span>)                  │          <span style=\"color: #00af00; text-decoration-color: #00af00\">41,984</span> │\n",
              "├──────────────────────────────────────┼─────────────────────────────┼─────────────────┤\n",
              "│ dense (<span style=\"color: #0087ff; text-decoration-color: #0087ff\">Dense</span>)                        │ (<span style=\"color: #00d7ff; text-decoration-color: #00d7ff\">None</span>, <span style=\"color: #00af00; text-decoration-color: #00af00\">32</span>)                  │           <span style=\"color: #00af00; text-decoration-color: #00af00\">2,080</span> │\n",
              "├──────────────────────────────────────┼─────────────────────────────┼─────────────────┤\n",
              "│ dense_1 (<span style=\"color: #0087ff; text-decoration-color: #0087ff\">Dense</span>)                      │ (<span style=\"color: #00d7ff; text-decoration-color: #00d7ff\">None</span>, <span style=\"color: #00af00; text-decoration-color: #00af00\">3</span>)                   │              <span style=\"color: #00af00; text-decoration-color: #00af00\">99</span> │\n",
              "└──────────────────────────────────────┴─────────────────────────────┴─────────────────┘\n",
              "</pre>\n"
            ]
          },
          "metadata": {}
        },
        {
          "output_type": "display_data",
          "data": {
            "text/plain": [
              "\u001b[1m Total params: \u001b[0m\u001b[38;5;34m44,163\u001b[0m (172.51 KB)\n"
            ],
            "text/html": [
              "<pre style=\"white-space:pre;overflow-x:auto;line-height:normal;font-family:Menlo,'DejaVu Sans Mono',consolas,'Courier New',monospace\"><span style=\"font-weight: bold\"> Total params: </span><span style=\"color: #00af00; text-decoration-color: #00af00\">44,163</span> (172.51 KB)\n",
              "</pre>\n"
            ]
          },
          "metadata": {}
        },
        {
          "output_type": "display_data",
          "data": {
            "text/plain": [
              "\u001b[1m Trainable params: \u001b[0m\u001b[38;5;34m44,163\u001b[0m (172.51 KB)\n"
            ],
            "text/html": [
              "<pre style=\"white-space:pre;overflow-x:auto;line-height:normal;font-family:Menlo,'DejaVu Sans Mono',consolas,'Courier New',monospace\"><span style=\"font-weight: bold\"> Trainable params: </span><span style=\"color: #00af00; text-decoration-color: #00af00\">44,163</span> (172.51 KB)\n",
              "</pre>\n"
            ]
          },
          "metadata": {}
        },
        {
          "output_type": "display_data",
          "data": {
            "text/plain": [
              "\u001b[1m Non-trainable params: \u001b[0m\u001b[38;5;34m0\u001b[0m (0.00 B)\n"
            ],
            "text/html": [
              "<pre style=\"white-space:pre;overflow-x:auto;line-height:normal;font-family:Menlo,'DejaVu Sans Mono',consolas,'Courier New',monospace\"><span style=\"font-weight: bold\"> Non-trainable params: </span><span style=\"color: #00af00; text-decoration-color: #00af00\">0</span> (0.00 B)\n",
              "</pre>\n"
            ]
          },
          "metadata": {}
        }
      ],
      "source": [
        "from tensorflow.keras.models import Sequential\n",
        "from tensorflow.keras.layers import LSTM, Dense\n",
        "\n",
        "#모델 만들기\n",
        "\n",
        "model = Sequential([\n",
        "    LSTM(64, activation='relu', input_shape=x_train.shape[1:3]),\n",
        "    Dense(32, activation='relu'),\n",
        "    Dense(len(actions), activation='softmax')\n",
        "])\n",
        "\n",
        "model.compile(optimizer='adam', loss='categorical_crossentropy', metrics=['acc'])\n",
        "model.summary()"
      ]
    },
    {
      "cell_type": "markdown",
      "source": [
        "학습시키기."
      ],
      "metadata": {
        "id": "UyT4BGzSNAM6"
      }
    },
    {
      "cell_type": "code",
      "execution_count": 8,
      "metadata": {
        "scrolled": true,
        "id": "SUrlI8Gzmf8c",
        "outputId": "0c856687-d1f9-43b4-ca80-6b03d482cb38",
        "colab": {
          "base_uri": "https://localhost:8080/"
        }
      },
      "outputs": [
        {
          "output_type": "stream",
          "name": "stdout",
          "text": [
            "Epoch 1/200\n",
            "\u001b[1m74/74\u001b[0m \u001b[32m━━━━━━━━━━━━━━━━━━━━\u001b[0m\u001b[37m\u001b[0m \u001b[1m4s\u001b[0m 21ms/step - acc: 0.5257 - loss: 7.1717 - val_acc: 0.9346 - val_loss: 0.2343 - learning_rate: 0.0010\n",
            "Epoch 2/200\n"
          ]
        },
        {
          "output_type": "stream",
          "name": "stderr",
          "text": [
            "/usr/local/lib/python3.10/dist-packages/keras/src/callbacks/model_checkpoint.py:206: UserWarning: Can save best model only with val_accuracy available, skipping.\n",
            "  self._save_model(epoch=epoch, batch=None, logs=logs)\n",
            "/usr/local/lib/python3.10/dist-packages/keras/src/callbacks/callback_list.py:96: UserWarning: Learning rate reduction is conditioned on metric `val_accuracy` which is not available. Available metrics are: acc,loss,val_acc,val_loss,learning_rate.\n",
            "  callback.on_epoch_end(epoch, logs)\n"
          ]
        },
        {
          "output_type": "stream",
          "name": "stdout",
          "text": [
            "\u001b[1m74/74\u001b[0m \u001b[32m━━━━━━━━━━━━━━━━━━━━\u001b[0m\u001b[37m\u001b[0m \u001b[1m2s\u001b[0m 16ms/step - acc: 0.9568 - loss: 0.1759 - val_acc: 0.8346 - val_loss: 2.2771 - learning_rate: 0.0010\n",
            "Epoch 3/200\n",
            "\u001b[1m74/74\u001b[0m \u001b[32m━━━━━━━━━━━━━━━━━━━━\u001b[0m\u001b[37m\u001b[0m \u001b[1m1s\u001b[0m 17ms/step - acc: 0.8111 - loss: 1.0935 - val_acc: 0.9846 - val_loss: 0.1052 - learning_rate: 0.0010\n",
            "Epoch 4/200\n",
            "\u001b[1m74/74\u001b[0m \u001b[32m━━━━━━━━━━━━━━━━━━━━\u001b[0m\u001b[37m\u001b[0m \u001b[1m1s\u001b[0m 19ms/step - acc: 0.9862 - loss: 0.0641 - val_acc: 1.0000 - val_loss: 0.0253 - learning_rate: 0.0010\n",
            "Epoch 5/200\n",
            "\u001b[1m74/74\u001b[0m \u001b[32m━━━━━━━━━━━━━━━━━━━━\u001b[0m\u001b[37m\u001b[0m \u001b[1m5s\u001b[0m 48ms/step - acc: 0.9961 - loss: 0.0228 - val_acc: 1.0000 - val_loss: 0.0145 - learning_rate: 0.0010\n",
            "Epoch 6/200\n",
            "\u001b[1m74/74\u001b[0m \u001b[32m━━━━━━━━━━━━━━━━━━━━\u001b[0m\u001b[37m\u001b[0m \u001b[1m3s\u001b[0m 16ms/step - acc: 0.9989 - loss: 0.0132 - val_acc: 1.0000 - val_loss: 0.0087 - learning_rate: 0.0010\n",
            "Epoch 7/200\n",
            "\u001b[1m74/74\u001b[0m \u001b[32m━━━━━━━━━━━━━━━━━━━━\u001b[0m\u001b[37m\u001b[0m \u001b[1m1s\u001b[0m 16ms/step - acc: 0.9949 - loss: 0.0227 - val_acc: 0.9962 - val_loss: 0.0148 - learning_rate: 0.0010\n",
            "Epoch 8/200\n",
            "\u001b[1m74/74\u001b[0m \u001b[32m━━━━━━━━━━━━━━━━━━━━\u001b[0m\u001b[37m\u001b[0m \u001b[1m1s\u001b[0m 16ms/step - acc: 0.9920 - loss: 0.0236 - val_acc: 1.0000 - val_loss: 0.0035 - learning_rate: 0.0010\n",
            "Epoch 9/200\n",
            "\u001b[1m74/74\u001b[0m \u001b[32m━━━━━━━━━━━━━━━━━━━━\u001b[0m\u001b[37m\u001b[0m \u001b[1m1s\u001b[0m 16ms/step - acc: 0.9998 - loss: 0.0030 - val_acc: 1.0000 - val_loss: 0.0022 - learning_rate: 0.0010\n",
            "Epoch 10/200\n",
            "\u001b[1m74/74\u001b[0m \u001b[32m━━━━━━━━━━━━━━━━━━━━\u001b[0m\u001b[37m\u001b[0m \u001b[1m1s\u001b[0m 16ms/step - acc: 0.9997 - loss: 0.0028 - val_acc: 0.9923 - val_loss: 0.0259 - learning_rate: 0.0010\n",
            "Epoch 11/200\n",
            "\u001b[1m74/74\u001b[0m \u001b[32m━━━━━━━━━━━━━━━━━━━━\u001b[0m\u001b[37m\u001b[0m \u001b[1m1s\u001b[0m 16ms/step - acc: 0.9516 - loss: 0.1838 - val_acc: 0.9962 - val_loss: 0.0075 - learning_rate: 0.0010\n",
            "Epoch 12/200\n",
            "\u001b[1m74/74\u001b[0m \u001b[32m━━━━━━━━━━━━━━━━━━━━\u001b[0m\u001b[37m\u001b[0m \u001b[1m1s\u001b[0m 16ms/step - acc: 1.0000 - loss: 0.0045 - val_acc: 0.9962 - val_loss: 0.0061 - learning_rate: 0.0010\n",
            "Epoch 13/200\n",
            "\u001b[1m74/74\u001b[0m \u001b[32m━━━━━━━━━━━━━━━━━━━━\u001b[0m\u001b[37m\u001b[0m \u001b[1m1s\u001b[0m 16ms/step - acc: 0.9997 - loss: 0.0025 - val_acc: 1.0000 - val_loss: 0.0016 - learning_rate: 0.0010\n",
            "Epoch 14/200\n",
            "\u001b[1m74/74\u001b[0m \u001b[32m━━━━━━━━━━━━━━━━━━━━\u001b[0m\u001b[37m\u001b[0m \u001b[1m2s\u001b[0m 27ms/step - acc: 1.0000 - loss: 0.0027 - val_acc: 1.0000 - val_loss: 0.0012 - learning_rate: 0.0010\n",
            "Epoch 15/200\n",
            "\u001b[1m74/74\u001b[0m \u001b[32m━━━━━━━━━━━━━━━━━━━━\u001b[0m\u001b[37m\u001b[0m \u001b[1m2s\u001b[0m 27ms/step - acc: 1.0000 - loss: 0.0012 - val_acc: 1.0000 - val_loss: 8.2992e-04 - learning_rate: 0.0010\n",
            "Epoch 16/200\n",
            "\u001b[1m74/74\u001b[0m \u001b[32m━━━━━━━━━━━━━━━━━━━━\u001b[0m\u001b[37m\u001b[0m \u001b[1m1s\u001b[0m 16ms/step - acc: 1.0000 - loss: 8.0480e-04 - val_acc: 1.0000 - val_loss: 6.6975e-04 - learning_rate: 0.0010\n",
            "Epoch 17/200\n",
            "\u001b[1m74/74\u001b[0m \u001b[32m━━━━━━━━━━━━━━━━━━━━\u001b[0m\u001b[37m\u001b[0m \u001b[1m1s\u001b[0m 16ms/step - acc: 1.0000 - loss: 6.8336e-04 - val_acc: 1.0000 - val_loss: 5.6079e-04 - learning_rate: 0.0010\n",
            "Epoch 18/200\n",
            "\u001b[1m74/74\u001b[0m \u001b[32m━━━━━━━━━━━━━━━━━━━━\u001b[0m\u001b[37m\u001b[0m \u001b[1m1s\u001b[0m 16ms/step - acc: 1.0000 - loss: 6.7679e-04 - val_acc: 1.0000 - val_loss: 0.0023 - learning_rate: 0.0010\n",
            "Epoch 19/200\n",
            "\u001b[1m74/74\u001b[0m \u001b[32m━━━━━━━━━━━━━━━━━━━━\u001b[0m\u001b[37m\u001b[0m \u001b[1m1s\u001b[0m 16ms/step - acc: 1.0000 - loss: 5.1275e-04 - val_acc: 1.0000 - val_loss: 0.0010 - learning_rate: 0.0010\n",
            "Epoch 20/200\n",
            "\u001b[1m74/74\u001b[0m \u001b[32m━━━━━━━━━━━━━━━━━━━━\u001b[0m\u001b[37m\u001b[0m \u001b[1m1s\u001b[0m 16ms/step - acc: 1.0000 - loss: 5.2073e-04 - val_acc: 1.0000 - val_loss: 3.7964e-04 - learning_rate: 0.0010\n",
            "Epoch 21/200\n",
            "\u001b[1m74/74\u001b[0m \u001b[32m━━━━━━━━━━━━━━━━━━━━\u001b[0m\u001b[37m\u001b[0m \u001b[1m1s\u001b[0m 16ms/step - acc: 0.9995 - loss: 0.0012 - val_acc: 1.0000 - val_loss: 4.5644e-04 - learning_rate: 0.0010\n",
            "Epoch 22/200\n",
            "\u001b[1m74/74\u001b[0m \u001b[32m━━━━━━━━━━━━━━━━━━━━\u001b[0m\u001b[37m\u001b[0m \u001b[1m1s\u001b[0m 16ms/step - acc: 1.0000 - loss: 4.5920e-04 - val_acc: 1.0000 - val_loss: 3.6825e-04 - learning_rate: 0.0010\n",
            "Epoch 23/200\n",
            "\u001b[1m74/74\u001b[0m \u001b[32m━━━━━━━━━━━━━━━━━━━━\u001b[0m\u001b[37m\u001b[0m \u001b[1m1s\u001b[0m 16ms/step - acc: 1.0000 - loss: 3.7049e-04 - val_acc: 1.0000 - val_loss: 3.1929e-04 - learning_rate: 0.0010\n",
            "Epoch 24/200\n",
            "\u001b[1m74/74\u001b[0m \u001b[32m━━━━━━━━━━━━━━━━━━━━\u001b[0m\u001b[37m\u001b[0m \u001b[1m2s\u001b[0m 26ms/step - acc: 1.0000 - loss: 3.2659e-04 - val_acc: 1.0000 - val_loss: 2.8294e-04 - learning_rate: 0.0010\n",
            "Epoch 25/200\n",
            "\u001b[1m74/74\u001b[0m \u001b[32m━━━━━━━━━━━━━━━━━━━━\u001b[0m\u001b[37m\u001b[0m \u001b[1m2s\u001b[0m 28ms/step - acc: 1.0000 - loss: 2.3101e-04 - val_acc: 1.0000 - val_loss: 2.4861e-04 - learning_rate: 0.0010\n",
            "Epoch 26/200\n",
            "\u001b[1m74/74\u001b[0m \u001b[32m━━━━━━━━━━━━━━━━━━━━\u001b[0m\u001b[37m\u001b[0m \u001b[1m1s\u001b[0m 16ms/step - acc: 1.0000 - loss: 2.6222e-04 - val_acc: 1.0000 - val_loss: 2.2772e-04 - learning_rate: 0.0010\n",
            "Epoch 27/200\n",
            "\u001b[1m74/74\u001b[0m \u001b[32m━━━━━━━━━━━━━━━━━━━━\u001b[0m\u001b[37m\u001b[0m \u001b[1m1s\u001b[0m 16ms/step - acc: 1.0000 - loss: 2.0915e-04 - val_acc: 1.0000 - val_loss: 2.1482e-04 - learning_rate: 0.0010\n",
            "Epoch 28/200\n",
            "\u001b[1m74/74\u001b[0m \u001b[32m━━━━━━━━━━━━━━━━━━━━\u001b[0m\u001b[37m\u001b[0m \u001b[1m1s\u001b[0m 16ms/step - acc: 1.0000 - loss: 1.7009e-04 - val_acc: 1.0000 - val_loss: 1.9617e-04 - learning_rate: 0.0010\n",
            "Epoch 29/200\n",
            "\u001b[1m74/74\u001b[0m \u001b[32m━━━━━━━━━━━━━━━━━━━━\u001b[0m\u001b[37m\u001b[0m \u001b[1m1s\u001b[0m 16ms/step - acc: 1.0000 - loss: 1.6061e-04 - val_acc: 1.0000 - val_loss: 1.8045e-04 - learning_rate: 0.0010\n",
            "Epoch 30/200\n",
            "\u001b[1m74/74\u001b[0m \u001b[32m━━━━━━━━━━━━━━━━━━━━\u001b[0m\u001b[37m\u001b[0m \u001b[1m1s\u001b[0m 16ms/step - acc: 1.0000 - loss: 1.5672e-04 - val_acc: 1.0000 - val_loss: 1.7143e-04 - learning_rate: 0.0010\n",
            "Epoch 31/200\n",
            "\u001b[1m74/74\u001b[0m \u001b[32m━━━━━━━━━━━━━━━━━━━━\u001b[0m\u001b[37m\u001b[0m \u001b[1m1s\u001b[0m 16ms/step - acc: 1.0000 - loss: 1.5996e-04 - val_acc: 1.0000 - val_loss: 1.6193e-04 - learning_rate: 0.0010\n",
            "Epoch 32/200\n",
            "\u001b[1m74/74\u001b[0m \u001b[32m━━━━━━━━━━━━━━━━━━━━\u001b[0m\u001b[37m\u001b[0m \u001b[1m1s\u001b[0m 17ms/step - acc: 1.0000 - loss: 1.2384e-04 - val_acc: 1.0000 - val_loss: 1.4810e-04 - learning_rate: 0.0010\n",
            "Epoch 33/200\n",
            "\u001b[1m74/74\u001b[0m \u001b[32m━━━━━━━━━━━━━━━━━━━━\u001b[0m\u001b[37m\u001b[0m \u001b[1m1s\u001b[0m 16ms/step - acc: 1.0000 - loss: 1.1775e-04 - val_acc: 1.0000 - val_loss: 1.4031e-04 - learning_rate: 0.0010\n",
            "Epoch 34/200\n",
            "\u001b[1m74/74\u001b[0m \u001b[32m━━━━━━━━━━━━━━━━━━━━\u001b[0m\u001b[37m\u001b[0m \u001b[1m2s\u001b[0m 28ms/step - acc: 1.0000 - loss: 1.2076e-04 - val_acc: 1.0000 - val_loss: 1.3360e-04 - learning_rate: 0.0010\n",
            "Epoch 35/200\n",
            "\u001b[1m74/74\u001b[0m \u001b[32m━━━━━━━━━━━━━━━━━━━━\u001b[0m\u001b[37m\u001b[0m \u001b[1m2s\u001b[0m 25ms/step - acc: 1.0000 - loss: 1.0190e-04 - val_acc: 1.0000 - val_loss: 1.3722e-04 - learning_rate: 0.0010\n",
            "Epoch 36/200\n",
            "\u001b[1m74/74\u001b[0m \u001b[32m━━━━━━━━━━━━━━━━━━━━\u001b[0m\u001b[37m\u001b[0m \u001b[1m1s\u001b[0m 16ms/step - acc: 1.0000 - loss: 1.0837e-04 - val_acc: 1.0000 - val_loss: 1.2348e-04 - learning_rate: 0.0010\n",
            "Epoch 37/200\n",
            "\u001b[1m74/74\u001b[0m \u001b[32m━━━━━━━━━━━━━━━━━━━━\u001b[0m\u001b[37m\u001b[0m \u001b[1m1s\u001b[0m 17ms/step - acc: 1.0000 - loss: 1.0707e-04 - val_acc: 1.0000 - val_loss: 1.2608e-04 - learning_rate: 0.0010\n",
            "Epoch 38/200\n",
            "\u001b[1m74/74\u001b[0m \u001b[32m━━━━━━━━━━━━━━━━━━━━\u001b[0m\u001b[37m\u001b[0m \u001b[1m1s\u001b[0m 16ms/step - acc: 1.0000 - loss: 8.1984e-05 - val_acc: 1.0000 - val_loss: 1.0822e-04 - learning_rate: 0.0010\n",
            "Epoch 39/200\n",
            "\u001b[1m74/74\u001b[0m \u001b[32m━━━━━━━━━━━━━━━━━━━━\u001b[0m\u001b[37m\u001b[0m \u001b[1m1s\u001b[0m 16ms/step - acc: 1.0000 - loss: 8.0560e-05 - val_acc: 1.0000 - val_loss: 1.0771e-04 - learning_rate: 0.0010\n",
            "Epoch 40/200\n",
            "\u001b[1m74/74\u001b[0m \u001b[32m━━━━━━━━━━━━━━━━━━━━\u001b[0m\u001b[37m\u001b[0m \u001b[1m1s\u001b[0m 16ms/step - acc: 1.0000 - loss: 9.4728e-05 - val_acc: 1.0000 - val_loss: 1.0652e-04 - learning_rate: 0.0010\n",
            "Epoch 41/200\n",
            "\u001b[1m74/74\u001b[0m \u001b[32m━━━━━━━━━━━━━━━━━━━━\u001b[0m\u001b[37m\u001b[0m \u001b[1m1s\u001b[0m 16ms/step - acc: 1.0000 - loss: 6.6554e-05 - val_acc: 1.0000 - val_loss: 9.3364e-05 - learning_rate: 0.0010\n",
            "Epoch 42/200\n",
            "\u001b[1m74/74\u001b[0m \u001b[32m━━━━━━━━━━━━━━━━━━━━\u001b[0m\u001b[37m\u001b[0m \u001b[1m1s\u001b[0m 16ms/step - acc: 1.0000 - loss: 8.3546e-05 - val_acc: 1.0000 - val_loss: 9.4465e-05 - learning_rate: 0.0010\n",
            "Epoch 43/200\n",
            "\u001b[1m74/74\u001b[0m \u001b[32m━━━━━━━━━━━━━━━━━━━━\u001b[0m\u001b[37m\u001b[0m \u001b[1m1s\u001b[0m 18ms/step - acc: 1.0000 - loss: 9.2838e-05 - val_acc: 1.0000 - val_loss: 8.8351e-05 - learning_rate: 0.0010\n",
            "Epoch 44/200\n",
            "\u001b[1m74/74\u001b[0m \u001b[32m━━━━━━━━━━━━━━━━━━━━\u001b[0m\u001b[37m\u001b[0m \u001b[1m3s\u001b[0m 24ms/step - acc: 1.0000 - loss: 7.4632e-05 - val_acc: 1.0000 - val_loss: 7.8910e-05 - learning_rate: 0.0010\n",
            "Epoch 45/200\n",
            "\u001b[1m74/74\u001b[0m \u001b[32m━━━━━━━━━━━━━━━━━━━━\u001b[0m\u001b[37m\u001b[0m \u001b[1m2s\u001b[0m 16ms/step - acc: 1.0000 - loss: 6.0337e-05 - val_acc: 1.0000 - val_loss: 7.5198e-05 - learning_rate: 0.0010\n",
            "Epoch 46/200\n",
            "\u001b[1m74/74\u001b[0m \u001b[32m━━━━━━━━━━━━━━━━━━━━\u001b[0m\u001b[37m\u001b[0m \u001b[1m1s\u001b[0m 17ms/step - acc: 1.0000 - loss: 4.9678e-05 - val_acc: 1.0000 - val_loss: 7.9046e-05 - learning_rate: 0.0010\n",
            "Epoch 47/200\n",
            "\u001b[1m74/74\u001b[0m \u001b[32m━━━━━━━━━━━━━━━━━━━━\u001b[0m\u001b[37m\u001b[0m \u001b[1m3s\u001b[0m 17ms/step - acc: 0.9988 - loss: 0.0044 - val_acc: 1.0000 - val_loss: 0.0026 - learning_rate: 0.0010\n",
            "Epoch 48/200\n",
            "\u001b[1m74/74\u001b[0m \u001b[32m━━━━━━━━━━━━━━━━━━━━\u001b[0m\u001b[37m\u001b[0m \u001b[1m1s\u001b[0m 16ms/step - acc: 0.9981 - loss: 0.0103 - val_acc: 1.0000 - val_loss: 3.9237e-04 - learning_rate: 0.0010\n",
            "Epoch 49/200\n",
            "\u001b[1m74/74\u001b[0m \u001b[32m━━━━━━━━━━━━━━━━━━━━\u001b[0m\u001b[37m\u001b[0m \u001b[1m1s\u001b[0m 16ms/step - acc: 1.0000 - loss: 6.6538e-04 - val_acc: 1.0000 - val_loss: 1.6315e-04 - learning_rate: 0.0010\n",
            "Epoch 50/200\n",
            "\u001b[1m74/74\u001b[0m \u001b[32m━━━━━━━━━━━━━━━━━━━━\u001b[0m\u001b[37m\u001b[0m \u001b[1m1s\u001b[0m 16ms/step - acc: 1.0000 - loss: 3.0865e-04 - val_acc: 1.0000 - val_loss: 1.2511e-04 - learning_rate: 0.0010\n",
            "Epoch 51/200\n",
            "\u001b[1m74/74\u001b[0m \u001b[32m━━━━━━━━━━━━━━━━━━━━\u001b[0m\u001b[37m\u001b[0m \u001b[1m2s\u001b[0m 25ms/step - acc: 1.0000 - loss: 1.9447e-04 - val_acc: 1.0000 - val_loss: 8.2369e-05 - learning_rate: 0.0010\n",
            "Epoch 52/200\n",
            "\u001b[1m74/74\u001b[0m \u001b[32m━━━━━━━━━━━━━━━━━━━━\u001b[0m\u001b[37m\u001b[0m \u001b[1m2s\u001b[0m 22ms/step - acc: 1.0000 - loss: 1.2920e-04 - val_acc: 1.0000 - val_loss: 7.5661e-05 - learning_rate: 0.0010\n",
            "Epoch 53/200\n",
            "\u001b[1m74/74\u001b[0m \u001b[32m━━━━━━━━━━━━━━━━━━━━\u001b[0m\u001b[37m\u001b[0m \u001b[1m1s\u001b[0m 16ms/step - acc: 1.0000 - loss: 1.5648e-04 - val_acc: 1.0000 - val_loss: 5.9333e-05 - learning_rate: 0.0010\n",
            "Epoch 54/200\n",
            "\u001b[1m74/74\u001b[0m \u001b[32m━━━━━━━━━━━━━━━━━━━━\u001b[0m\u001b[37m\u001b[0m \u001b[1m1s\u001b[0m 17ms/step - acc: 1.0000 - loss: 9.3736e-05 - val_acc: 1.0000 - val_loss: 5.6465e-05 - learning_rate: 0.0010\n",
            "Epoch 55/200\n",
            "\u001b[1m74/74\u001b[0m \u001b[32m━━━━━━━━━━━━━━━━━━━━\u001b[0m\u001b[37m\u001b[0m \u001b[1m1s\u001b[0m 19ms/step - acc: 1.0000 - loss: 8.2990e-05 - val_acc: 1.0000 - val_loss: 4.6277e-05 - learning_rate: 0.0010\n",
            "Epoch 56/200\n",
            "\u001b[1m74/74\u001b[0m \u001b[32m━━━━━━━━━━━━━━━━━━━━\u001b[0m\u001b[37m\u001b[0m \u001b[1m1s\u001b[0m 19ms/step - acc: 1.0000 - loss: 7.0631e-05 - val_acc: 1.0000 - val_loss: 4.6586e-05 - learning_rate: 0.0010\n",
            "Epoch 57/200\n",
            "\u001b[1m74/74\u001b[0m \u001b[32m━━━━━━━━━━━━━━━━━━━━\u001b[0m\u001b[37m\u001b[0m \u001b[1m1s\u001b[0m 18ms/step - acc: 1.0000 - loss: 6.9265e-05 - val_acc: 1.0000 - val_loss: 3.9791e-05 - learning_rate: 0.0010\n",
            "Epoch 58/200\n",
            "\u001b[1m74/74\u001b[0m \u001b[32m━━━━━━━━━━━━━━━━━━━━\u001b[0m\u001b[37m\u001b[0m \u001b[1m1s\u001b[0m 17ms/step - acc: 1.0000 - loss: 4.8852e-05 - val_acc: 1.0000 - val_loss: 3.5059e-05 - learning_rate: 0.0010\n",
            "Epoch 59/200\n",
            "\u001b[1m74/74\u001b[0m \u001b[32m━━━━━━━━━━━━━━━━━━━━\u001b[0m\u001b[37m\u001b[0m \u001b[1m2s\u001b[0m 20ms/step - acc: 1.0000 - loss: 5.8922e-05 - val_acc: 1.0000 - val_loss: 3.2725e-05 - learning_rate: 0.0010\n",
            "Epoch 60/200\n",
            "\u001b[1m74/74\u001b[0m \u001b[32m━━━━━━━━━━━━━━━━━━━━\u001b[0m\u001b[37m\u001b[0m \u001b[1m2s\u001b[0m 29ms/step - acc: 1.0000 - loss: 4.8203e-05 - val_acc: 1.0000 - val_loss: 3.0780e-05 - learning_rate: 0.0010\n",
            "Epoch 61/200\n",
            "\u001b[1m74/74\u001b[0m \u001b[32m━━━━━━━━━━━━━━━━━━━━\u001b[0m\u001b[37m\u001b[0m \u001b[1m2s\u001b[0m 22ms/step - acc: 1.0000 - loss: 5.1033e-05 - val_acc: 1.0000 - val_loss: 2.8401e-05 - learning_rate: 0.0010\n",
            "Epoch 62/200\n",
            "\u001b[1m74/74\u001b[0m \u001b[32m━━━━━━━━━━━━━━━━━━━━\u001b[0m\u001b[37m\u001b[0m \u001b[1m2s\u001b[0m 17ms/step - acc: 1.0000 - loss: 5.2007e-05 - val_acc: 1.0000 - val_loss: 2.6807e-05 - learning_rate: 0.0010\n",
            "Epoch 63/200\n",
            "\u001b[1m74/74\u001b[0m \u001b[32m━━━━━━━━━━━━━━━━━━━━\u001b[0m\u001b[37m\u001b[0m \u001b[1m1s\u001b[0m 19ms/step - acc: 1.0000 - loss: 4.8266e-05 - val_acc: 1.0000 - val_loss: 2.5082e-05 - learning_rate: 0.0010\n",
            "Epoch 64/200\n",
            "\u001b[1m74/74\u001b[0m \u001b[32m━━━━━━━━━━━━━━━━━━━━\u001b[0m\u001b[37m\u001b[0m \u001b[1m1s\u001b[0m 17ms/step - acc: 1.0000 - loss: 3.9692e-05 - val_acc: 1.0000 - val_loss: 2.3851e-05 - learning_rate: 0.0010\n",
            "Epoch 65/200\n",
            "\u001b[1m74/74\u001b[0m \u001b[32m━━━━━━━━━━━━━━━━━━━━\u001b[0m\u001b[37m\u001b[0m \u001b[1m3s\u001b[0m 20ms/step - acc: 1.0000 - loss: 3.4982e-05 - val_acc: 1.0000 - val_loss: 2.2255e-05 - learning_rate: 0.0010\n",
            "Epoch 66/200\n",
            "\u001b[1m74/74\u001b[0m \u001b[32m━━━━━━━━━━━━━━━━━━━━\u001b[0m\u001b[37m\u001b[0m \u001b[1m3s\u001b[0m 25ms/step - acc: 1.0000 - loss: 3.1436e-05 - val_acc: 1.0000 - val_loss: 2.1198e-05 - learning_rate: 0.0010\n",
            "Epoch 67/200\n",
            "\u001b[1m74/74\u001b[0m \u001b[32m━━━━━━━━━━━━━━━━━━━━\u001b[0m\u001b[37m\u001b[0m \u001b[1m3s\u001b[0m 26ms/step - acc: 1.0000 - loss: 3.4343e-05 - val_acc: 1.0000 - val_loss: 2.0756e-05 - learning_rate: 0.0010\n",
            "Epoch 68/200\n",
            "\u001b[1m74/74\u001b[0m \u001b[32m━━━━━━━━━━━━━━━━━━━━\u001b[0m\u001b[37m\u001b[0m \u001b[1m1s\u001b[0m 17ms/step - acc: 1.0000 - loss: 3.0586e-05 - val_acc: 1.0000 - val_loss: 1.9419e-05 - learning_rate: 0.0010\n",
            "Epoch 69/200\n",
            "\u001b[1m74/74\u001b[0m \u001b[32m━━━━━━━━━━━━━━━━━━━━\u001b[0m\u001b[37m\u001b[0m \u001b[1m1s\u001b[0m 17ms/step - acc: 1.0000 - loss: 2.0879e-05 - val_acc: 1.0000 - val_loss: 1.8214e-05 - learning_rate: 0.0010\n",
            "Epoch 70/200\n",
            "\u001b[1m74/74\u001b[0m \u001b[32m━━━━━━━━━━━━━━━━━━━━\u001b[0m\u001b[37m\u001b[0m \u001b[1m1s\u001b[0m 17ms/step - acc: 1.0000 - loss: 2.9009e-05 - val_acc: 1.0000 - val_loss: 1.7526e-05 - learning_rate: 0.0010\n",
            "Epoch 71/200\n",
            "\u001b[1m74/74\u001b[0m \u001b[32m━━━━━━━━━━━━━━━━━━━━\u001b[0m\u001b[37m\u001b[0m \u001b[1m2s\u001b[0m 16ms/step - acc: 1.0000 - loss: 2.3313e-05 - val_acc: 1.0000 - val_loss: 1.6969e-05 - learning_rate: 0.0010\n",
            "Epoch 72/200\n",
            "\u001b[1m74/74\u001b[0m \u001b[32m━━━━━━━━━━━━━━━━━━━━\u001b[0m\u001b[37m\u001b[0m \u001b[1m1s\u001b[0m 17ms/step - acc: 1.0000 - loss: 2.7505e-05 - val_acc: 1.0000 - val_loss: 1.5586e-05 - learning_rate: 0.0010\n",
            "Epoch 73/200\n",
            "\u001b[1m74/74\u001b[0m \u001b[32m━━━━━━━━━━━━━━━━━━━━\u001b[0m\u001b[37m\u001b[0m \u001b[1m1s\u001b[0m 17ms/step - acc: 1.0000 - loss: 2.5278e-05 - val_acc: 1.0000 - val_loss: 1.4873e-05 - learning_rate: 0.0010\n",
            "Epoch 74/200\n",
            "\u001b[1m74/74\u001b[0m \u001b[32m━━━━━━━━━━━━━━━━━━━━\u001b[0m\u001b[37m\u001b[0m \u001b[1m2s\u001b[0m 20ms/step - acc: 1.0000 - loss: 2.0962e-05 - val_acc: 1.0000 - val_loss: 1.4340e-05 - learning_rate: 0.0010\n",
            "Epoch 75/200\n",
            "\u001b[1m74/74\u001b[0m \u001b[32m━━━━━━━━━━━━━━━━━━━━\u001b[0m\u001b[37m\u001b[0m \u001b[1m2s\u001b[0m 28ms/step - acc: 1.0000 - loss: 1.9874e-05 - val_acc: 1.0000 - val_loss: 1.4182e-05 - learning_rate: 0.0010\n",
            "Epoch 76/200\n",
            "\u001b[1m74/74\u001b[0m \u001b[32m━━━━━━━━━━━━━━━━━━━━\u001b[0m\u001b[37m\u001b[0m \u001b[1m2s\u001b[0m 24ms/step - acc: 1.0000 - loss: 1.6951e-05 - val_acc: 1.0000 - val_loss: 1.3272e-05 - learning_rate: 0.0010\n",
            "Epoch 77/200\n",
            "\u001b[1m74/74\u001b[0m \u001b[32m━━━━━━━━━━━━━━━━━━━━\u001b[0m\u001b[37m\u001b[0m \u001b[1m2s\u001b[0m 16ms/step - acc: 1.0000 - loss: 1.7256e-05 - val_acc: 1.0000 - val_loss: 1.3405e-05 - learning_rate: 0.0010\n",
            "Epoch 78/200\n",
            "\u001b[1m74/74\u001b[0m \u001b[32m━━━━━━━━━━━━━━━━━━━━\u001b[0m\u001b[37m\u001b[0m \u001b[1m1s\u001b[0m 16ms/step - acc: 1.0000 - loss: 1.8892e-05 - val_acc: 1.0000 - val_loss: 1.2236e-05 - learning_rate: 0.0010\n",
            "Epoch 79/200\n",
            "\u001b[1m74/74\u001b[0m \u001b[32m━━━━━━━━━━━━━━━━━━━━\u001b[0m\u001b[37m\u001b[0m \u001b[1m1s\u001b[0m 17ms/step - acc: 1.0000 - loss: 2.1344e-05 - val_acc: 1.0000 - val_loss: 1.1409e-05 - learning_rate: 0.0010\n",
            "Epoch 80/200\n",
            "\u001b[1m74/74\u001b[0m \u001b[32m━━━━━━━━━━━━━━━━━━━━\u001b[0m\u001b[37m\u001b[0m \u001b[1m1s\u001b[0m 16ms/step - acc: 1.0000 - loss: 1.7749e-05 - val_acc: 1.0000 - val_loss: 1.0976e-05 - learning_rate: 0.0010\n",
            "Epoch 81/200\n",
            "\u001b[1m74/74\u001b[0m \u001b[32m━━━━━━━━━━━━━━━━━━━━\u001b[0m\u001b[37m\u001b[0m \u001b[1m1s\u001b[0m 17ms/step - acc: 1.0000 - loss: 1.8767e-05 - val_acc: 1.0000 - val_loss: 1.1047e-05 - learning_rate: 0.0010\n",
            "Epoch 82/200\n",
            "\u001b[1m74/74\u001b[0m \u001b[32m━━━━━━━━━━━━━━━━━━━━\u001b[0m\u001b[37m\u001b[0m \u001b[1m3s\u001b[0m 17ms/step - acc: 1.0000 - loss: 1.4899e-05 - val_acc: 1.0000 - val_loss: 1.0560e-05 - learning_rate: 0.0010\n",
            "Epoch 83/200\n",
            "\u001b[1m74/74\u001b[0m \u001b[32m━━━━━━━━━━━━━━━━━━━━\u001b[0m\u001b[37m\u001b[0m \u001b[1m3s\u001b[0m 26ms/step - acc: 1.0000 - loss: 1.6103e-05 - val_acc: 1.0000 - val_loss: 9.7132e-06 - learning_rate: 0.0010\n",
            "Epoch 84/200\n",
            "\u001b[1m74/74\u001b[0m \u001b[32m━━━━━━━━━━━━━━━━━━━━\u001b[0m\u001b[37m\u001b[0m \u001b[1m1s\u001b[0m 17ms/step - acc: 1.0000 - loss: 1.5681e-05 - val_acc: 1.0000 - val_loss: 9.4725e-06 - learning_rate: 0.0010\n",
            "Epoch 85/200\n",
            "\u001b[1m74/74\u001b[0m \u001b[32m━━━━━━━━━━━━━━━━━━━━\u001b[0m\u001b[37m\u001b[0m \u001b[1m1s\u001b[0m 17ms/step - acc: 1.0000 - loss: 1.1723e-05 - val_acc: 1.0000 - val_loss: 9.0650e-06 - learning_rate: 0.0010\n",
            "Epoch 86/200\n",
            "\u001b[1m74/74\u001b[0m \u001b[32m━━━━━━━━━━━━━━━━━━━━\u001b[0m\u001b[37m\u001b[0m \u001b[1m1s\u001b[0m 17ms/step - acc: 1.0000 - loss: 1.3648e-05 - val_acc: 1.0000 - val_loss: 8.6267e-06 - learning_rate: 0.0010\n",
            "Epoch 87/200\n",
            "\u001b[1m74/74\u001b[0m \u001b[32m━━━━━━━━━━━━━━━━━━━━\u001b[0m\u001b[37m\u001b[0m \u001b[1m1s\u001b[0m 16ms/step - acc: 1.0000 - loss: 1.2285e-05 - val_acc: 1.0000 - val_loss: 8.3081e-06 - learning_rate: 0.0010\n",
            "Epoch 88/200\n",
            "\u001b[1m74/74\u001b[0m \u001b[32m━━━━━━━━━━━━━━━━━━━━\u001b[0m\u001b[37m\u001b[0m \u001b[1m1s\u001b[0m 17ms/step - acc: 1.0000 - loss: 1.0678e-05 - val_acc: 1.0000 - val_loss: 8.2467e-06 - learning_rate: 0.0010\n",
            "Epoch 89/200\n",
            "\u001b[1m74/74\u001b[0m \u001b[32m━━━━━━━━━━━━━━━━━━━━\u001b[0m\u001b[37m\u001b[0m \u001b[1m1s\u001b[0m 17ms/step - acc: 1.0000 - loss: 1.0190e-05 - val_acc: 1.0000 - val_loss: 7.6090e-06 - learning_rate: 0.0010\n",
            "Epoch 90/200\n",
            "\u001b[1m74/74\u001b[0m \u001b[32m━━━━━━━━━━━━━━━━━━━━\u001b[0m\u001b[37m\u001b[0m \u001b[1m1s\u001b[0m 17ms/step - acc: 1.0000 - loss: 9.8802e-06 - val_acc: 1.0000 - val_loss: 7.7868e-06 - learning_rate: 0.0010\n",
            "Epoch 91/200\n",
            "\u001b[1m74/74\u001b[0m \u001b[32m━━━━━━━━━━━━━━━━━━━━\u001b[0m\u001b[37m\u001b[0m \u001b[1m2s\u001b[0m 22ms/step - acc: 1.0000 - loss: 9.7885e-06 - val_acc: 1.0000 - val_loss: 7.4192e-06 - learning_rate: 0.0010\n",
            "Epoch 92/200\n",
            "\u001b[1m74/74\u001b[0m \u001b[32m━━━━━━━━━━━━━━━━━━━━\u001b[0m\u001b[37m\u001b[0m \u001b[1m2s\u001b[0m 30ms/step - acc: 1.0000 - loss: 8.0815e-06 - val_acc: 1.0000 - val_loss: 7.5832e-06 - learning_rate: 0.0010\n",
            "Epoch 93/200\n",
            "\u001b[1m74/74\u001b[0m \u001b[32m━━━━━━━━━━━━━━━━━━━━\u001b[0m\u001b[37m\u001b[0m \u001b[1m2s\u001b[0m 20ms/step - acc: 1.0000 - loss: 6.8160e-06 - val_acc: 1.0000 - val_loss: 6.8342e-06 - learning_rate: 0.0010\n",
            "Epoch 94/200\n",
            "\u001b[1m74/74\u001b[0m \u001b[32m━━━━━━━━━━━━━━━━━━━━\u001b[0m\u001b[37m\u001b[0m \u001b[1m2s\u001b[0m 17ms/step - acc: 1.0000 - loss: 9.6520e-06 - val_acc: 1.0000 - val_loss: 6.8296e-06 - learning_rate: 0.0010\n",
            "Epoch 95/200\n",
            "\u001b[1m74/74\u001b[0m \u001b[32m━━━━━━━━━━━━━━━━━━━━\u001b[0m\u001b[37m\u001b[0m \u001b[1m1s\u001b[0m 17ms/step - acc: 1.0000 - loss: 8.0267e-06 - val_acc: 1.0000 - val_loss: 6.3781e-06 - learning_rate: 0.0010\n",
            "Epoch 96/200\n",
            "\u001b[1m74/74\u001b[0m \u001b[32m━━━━━━━━━━━━━━━━━━━━\u001b[0m\u001b[37m\u001b[0m \u001b[1m1s\u001b[0m 17ms/step - acc: 1.0000 - loss: 6.7044e-06 - val_acc: 1.0000 - val_loss: 6.7227e-06 - learning_rate: 0.0010\n",
            "Epoch 97/200\n",
            "\u001b[1m74/74\u001b[0m \u001b[32m━━━━━━━━━━━━━━━━━━━━\u001b[0m\u001b[37m\u001b[0m \u001b[1m3s\u001b[0m 17ms/step - acc: 1.0000 - loss: 6.8392e-06 - val_acc: 1.0000 - val_loss: 6.4023e-06 - learning_rate: 0.0010\n",
            "Epoch 98/200\n",
            "\u001b[1m74/74\u001b[0m \u001b[32m━━━━━━━━━━━━━━━━━━━━\u001b[0m\u001b[37m\u001b[0m \u001b[1m3s\u001b[0m 26ms/step - acc: 1.0000 - loss: 7.0030e-06 - val_acc: 1.0000 - val_loss: 6.0919e-06 - learning_rate: 0.0010\n",
            "Epoch 99/200\n",
            "\u001b[1m74/74\u001b[0m \u001b[32m━━━━━━━━━━━━━━━━━━━━\u001b[0m\u001b[37m\u001b[0m \u001b[1m2s\u001b[0m 24ms/step - acc: 1.0000 - loss: 6.7026e-06 - val_acc: 1.0000 - val_loss: 6.1927e-06 - learning_rate: 0.0010\n",
            "Epoch 100/200\n",
            "\u001b[1m74/74\u001b[0m \u001b[32m━━━━━━━━━━━━━━━━━━━━\u001b[0m\u001b[37m\u001b[0m \u001b[1m1s\u001b[0m 18ms/step - acc: 1.0000 - loss: 6.8153e-06 - val_acc: 1.0000 - val_loss: 6.0372e-06 - learning_rate: 0.0010\n",
            "Epoch 101/200\n",
            "\u001b[1m74/74\u001b[0m \u001b[32m━━━━━━━━━━━━━━━━━━━━\u001b[0m\u001b[37m\u001b[0m \u001b[1m1s\u001b[0m 18ms/step - acc: 1.0000 - loss: 5.2682e-06 - val_acc: 1.0000 - val_loss: 6.3209e-06 - learning_rate: 0.0010\n",
            "Epoch 102/200\n",
            "\u001b[1m74/74\u001b[0m \u001b[32m━━━━━━━━━━━━━━━━━━━━\u001b[0m\u001b[37m\u001b[0m \u001b[1m1s\u001b[0m 17ms/step - acc: 1.0000 - loss: 4.7107e-06 - val_acc: 1.0000 - val_loss: 6.3565e-06 - learning_rate: 0.0010\n",
            "Epoch 103/200\n",
            "\u001b[1m74/74\u001b[0m \u001b[32m━━━━━━━━━━━━━━━━━━━━\u001b[0m\u001b[37m\u001b[0m \u001b[1m1s\u001b[0m 19ms/step - acc: 1.0000 - loss: 6.0303e-06 - val_acc: 1.0000 - val_loss: 6.3734e-06 - learning_rate: 0.0010\n",
            "Epoch 104/200\n",
            "\u001b[1m74/74\u001b[0m \u001b[32m━━━━━━━━━━━━━━━━━━━━\u001b[0m\u001b[37m\u001b[0m \u001b[1m1s\u001b[0m 18ms/step - acc: 1.0000 - loss: 6.0005e-06 - val_acc: 1.0000 - val_loss: 6.2834e-06 - learning_rate: 0.0010\n",
            "Epoch 105/200\n",
            "\u001b[1m74/74\u001b[0m \u001b[32m━━━━━━━━━━━━━━━━━━━━\u001b[0m\u001b[37m\u001b[0m \u001b[1m1s\u001b[0m 18ms/step - acc: 1.0000 - loss: 5.9547e-06 - val_acc: 1.0000 - val_loss: 6.4257e-06 - learning_rate: 0.0010\n",
            "Epoch 106/200\n",
            "\u001b[1m74/74\u001b[0m \u001b[32m━━━━━━━━━━━━━━━━━━━━\u001b[0m\u001b[37m\u001b[0m \u001b[1m3s\u001b[0m 29ms/step - acc: 1.0000 - loss: 5.7202e-06 - val_acc: 1.0000 - val_loss: 6.3189e-06 - learning_rate: 0.0010\n",
            "Epoch 107/200\n",
            "\u001b[1m74/74\u001b[0m \u001b[32m━━━━━━━━━━━━━━━━━━━━\u001b[0m\u001b[37m\u001b[0m \u001b[1m2s\u001b[0m 25ms/step - acc: 1.0000 - loss: 4.1274e-06 - val_acc: 1.0000 - val_loss: 6.5506e-06 - learning_rate: 0.0010\n",
            "Epoch 108/200\n",
            "\u001b[1m74/74\u001b[0m \u001b[32m━━━━━━━━━━━━━━━━━━━━\u001b[0m\u001b[37m\u001b[0m \u001b[1m2s\u001b[0m 20ms/step - acc: 1.0000 - loss: 4.3435e-06 - val_acc: 1.0000 - val_loss: 6.9835e-06 - learning_rate: 0.0010\n",
            "Epoch 109/200\n",
            "\u001b[1m74/74\u001b[0m \u001b[32m━━━━━━━━━━━━━━━━━━━━\u001b[0m\u001b[37m\u001b[0m \u001b[1m1s\u001b[0m 19ms/step - acc: 1.0000 - loss: 4.4474e-06 - val_acc: 1.0000 - val_loss: 6.6232e-06 - learning_rate: 0.0010\n",
            "Epoch 110/200\n",
            "\u001b[1m74/74\u001b[0m \u001b[32m━━━━━━━━━━━━━━━━━━━━\u001b[0m\u001b[37m\u001b[0m \u001b[1m3s\u001b[0m 27ms/step - acc: 1.0000 - loss: 3.7657e-06 - val_acc: 1.0000 - val_loss: 6.7490e-06 - learning_rate: 0.0010\n",
            "Epoch 111/200\n",
            "\u001b[1m74/74\u001b[0m \u001b[32m━━━━━━━━━━━━━━━━━━━━\u001b[0m\u001b[37m\u001b[0m \u001b[1m2s\u001b[0m 20ms/step - acc: 1.0000 - loss: 4.3094e-06 - val_acc: 1.0000 - val_loss: 7.3236e-06 - learning_rate: 0.0010\n",
            "Epoch 112/200\n",
            "\u001b[1m74/74\u001b[0m \u001b[32m━━━━━━━━━━━━━━━━━━━━\u001b[0m\u001b[37m\u001b[0m \u001b[1m3s\u001b[0m 22ms/step - acc: 1.0000 - loss: 3.1848e-06 - val_acc: 1.0000 - val_loss: 7.5145e-06 - learning_rate: 0.0010\n",
            "Epoch 113/200\n",
            "\u001b[1m74/74\u001b[0m \u001b[32m━━━━━━━━━━━━━━━━━━━━\u001b[0m\u001b[37m\u001b[0m \u001b[1m3s\u001b[0m 26ms/step - acc: 0.9872 - loss: 0.0604 - val_acc: 0.9962 - val_loss: 0.0164 - learning_rate: 0.0010\n",
            "Epoch 114/200\n",
            "\u001b[1m74/74\u001b[0m \u001b[32m━━━━━━━━━━━━━━━━━━━━\u001b[0m\u001b[37m\u001b[0m \u001b[1m1s\u001b[0m 17ms/step - acc: 0.9942 - loss: 0.0256 - val_acc: 0.9962 - val_loss: 0.0069 - learning_rate: 0.0010\n",
            "Epoch 115/200\n",
            "\u001b[1m74/74\u001b[0m \u001b[32m━━━━━━━━━━━━━━━━━━━━\u001b[0m\u001b[37m\u001b[0m \u001b[1m1s\u001b[0m 16ms/step - acc: 1.0000 - loss: 7.5668e-04 - val_acc: 0.9923 - val_loss: 0.0220 - learning_rate: 0.0010\n",
            "Epoch 116/200\n",
            "\u001b[1m74/74\u001b[0m \u001b[32m━━━━━━━━━━━━━━━━━━━━\u001b[0m\u001b[37m\u001b[0m \u001b[1m1s\u001b[0m 17ms/step - acc: 0.9983 - loss: 0.0077 - val_acc: 1.0000 - val_loss: 0.0022 - learning_rate: 0.0010\n",
            "Epoch 117/200\n",
            "\u001b[1m74/74\u001b[0m \u001b[32m━━━━━━━━━━━━━━━━━━━━\u001b[0m\u001b[37m\u001b[0m \u001b[1m3s\u001b[0m 16ms/step - acc: 0.9998 - loss: 0.0015 - val_acc: 1.0000 - val_loss: 0.0012 - learning_rate: 0.0010\n",
            "Epoch 118/200\n",
            "\u001b[1m74/74\u001b[0m \u001b[32m━━━━━━━━━━━━━━━━━━━━\u001b[0m\u001b[37m\u001b[0m \u001b[1m1s\u001b[0m 17ms/step - acc: 1.0000 - loss: 0.0010 - val_acc: 1.0000 - val_loss: 2.3755e-04 - learning_rate: 0.0010\n",
            "Epoch 119/200\n",
            "\u001b[1m74/74\u001b[0m \u001b[32m━━━━━━━━━━━━━━━━━━━━\u001b[0m\u001b[37m\u001b[0m \u001b[1m1s\u001b[0m 16ms/step - acc: 1.0000 - loss: 2.0849e-04 - val_acc: 1.0000 - val_loss: 1.7377e-04 - learning_rate: 0.0010\n",
            "Epoch 120/200\n",
            "\u001b[1m74/74\u001b[0m \u001b[32m━━━━━━━━━━━━━━━━━━━━\u001b[0m\u001b[37m\u001b[0m \u001b[1m1s\u001b[0m 20ms/step - acc: 1.0000 - loss: 1.3000e-04 - val_acc: 1.0000 - val_loss: 1.3781e-04 - learning_rate: 0.0010\n",
            "Epoch 121/200\n",
            "\u001b[1m74/74\u001b[0m \u001b[32m━━━━━━━━━━━━━━━━━━━━\u001b[0m\u001b[37m\u001b[0m \u001b[1m2s\u001b[0m 28ms/step - acc: 1.0000 - loss: 1.1008e-04 - val_acc: 1.0000 - val_loss: 1.1210e-04 - learning_rate: 0.0010\n",
            "Epoch 122/200\n",
            "\u001b[1m74/74\u001b[0m \u001b[32m━━━━━━━━━━━━━━━━━━━━\u001b[0m\u001b[37m\u001b[0m \u001b[1m2s\u001b[0m 25ms/step - acc: 1.0000 - loss: 6.4138e-05 - val_acc: 1.0000 - val_loss: 9.4976e-05 - learning_rate: 0.0010\n",
            "Epoch 123/200\n",
            "\u001b[1m74/74\u001b[0m \u001b[32m━━━━━━━━━━━━━━━━━━━━\u001b[0m\u001b[37m\u001b[0m \u001b[1m1s\u001b[0m 17ms/step - acc: 1.0000 - loss: 4.9301e-05 - val_acc: 1.0000 - val_loss: 7.9682e-05 - learning_rate: 0.0010\n",
            "Epoch 124/200\n",
            "\u001b[1m74/74\u001b[0m \u001b[32m━━━━━━━━━━━━━━━━━━━━\u001b[0m\u001b[37m\u001b[0m \u001b[1m1s\u001b[0m 16ms/step - acc: 1.0000 - loss: 4.7031e-05 - val_acc: 1.0000 - val_loss: 7.4601e-05 - learning_rate: 0.0010\n",
            "Epoch 125/200\n",
            "\u001b[1m74/74\u001b[0m \u001b[32m━━━━━━━━━━━━━━━━━━━━\u001b[0m\u001b[37m\u001b[0m \u001b[1m1s\u001b[0m 16ms/step - acc: 1.0000 - loss: 5.4753e-05 - val_acc: 1.0000 - val_loss: 6.4691e-05 - learning_rate: 0.0010\n",
            "Epoch 126/200\n",
            "\u001b[1m74/74\u001b[0m \u001b[32m━━━━━━━━━━━━━━━━━━━━\u001b[0m\u001b[37m\u001b[0m \u001b[1m1s\u001b[0m 17ms/step - acc: 1.0000 - loss: 3.8429e-05 - val_acc: 1.0000 - val_loss: 5.9049e-05 - learning_rate: 0.0010\n",
            "Epoch 127/200\n",
            "\u001b[1m74/74\u001b[0m \u001b[32m━━━━━━━━━━━━━━━━━━━━\u001b[0m\u001b[37m\u001b[0m \u001b[1m1s\u001b[0m 16ms/step - acc: 1.0000 - loss: 3.1717e-05 - val_acc: 1.0000 - val_loss: 5.5834e-05 - learning_rate: 0.0010\n",
            "Epoch 128/200\n",
            "\u001b[1m74/74\u001b[0m \u001b[32m━━━━━━━━━━━━━━━━━━━━\u001b[0m\u001b[37m\u001b[0m \u001b[1m1s\u001b[0m 16ms/step - acc: 1.0000 - loss: 2.9359e-05 - val_acc: 1.0000 - val_loss: 4.8313e-05 - learning_rate: 0.0010\n",
            "Epoch 129/200\n",
            "\u001b[1m74/74\u001b[0m \u001b[32m━━━━━━━━━━━━━━━━━━━━\u001b[0m\u001b[37m\u001b[0m \u001b[1m1s\u001b[0m 16ms/step - acc: 1.0000 - loss: 2.7705e-05 - val_acc: 1.0000 - val_loss: 4.2982e-05 - learning_rate: 0.0010\n",
            "Epoch 130/200\n",
            "\u001b[1m74/74\u001b[0m \u001b[32m━━━━━━━━━━━━━━━━━━━━\u001b[0m\u001b[37m\u001b[0m \u001b[1m2s\u001b[0m 21ms/step - acc: 1.0000 - loss: 2.4474e-05 - val_acc: 1.0000 - val_loss: 3.7745e-05 - learning_rate: 0.0010\n",
            "Epoch 131/200\n",
            "\u001b[1m74/74\u001b[0m \u001b[32m━━━━━━━━━━━━━━━━━━━━\u001b[0m\u001b[37m\u001b[0m \u001b[1m2s\u001b[0m 28ms/step - acc: 1.0000 - loss: 2.0702e-05 - val_acc: 1.0000 - val_loss: 3.4810e-05 - learning_rate: 0.0010\n",
            "Epoch 132/200\n",
            "\u001b[1m74/74\u001b[0m \u001b[32m━━━━━━━━━━━━━━━━━━━━\u001b[0m\u001b[37m\u001b[0m \u001b[1m2s\u001b[0m 16ms/step - acc: 1.0000 - loss: 1.8199e-05 - val_acc: 1.0000 - val_loss: 3.1684e-05 - learning_rate: 0.0010\n",
            "Epoch 133/200\n",
            "\u001b[1m74/74\u001b[0m \u001b[32m━━━━━━━━━━━━━━━━━━━━\u001b[0m\u001b[37m\u001b[0m \u001b[1m1s\u001b[0m 17ms/step - acc: 1.0000 - loss: 1.6399e-05 - val_acc: 1.0000 - val_loss: 2.8824e-05 - learning_rate: 0.0010\n",
            "Epoch 134/200\n",
            "\u001b[1m74/74\u001b[0m \u001b[32m━━━━━━━━━━━━━━━━━━━━\u001b[0m\u001b[37m\u001b[0m \u001b[1m1s\u001b[0m 16ms/step - acc: 1.0000 - loss: 1.7102e-05 - val_acc: 1.0000 - val_loss: 2.6098e-05 - learning_rate: 0.0010\n",
            "Epoch 135/200\n",
            "\u001b[1m74/74\u001b[0m \u001b[32m━━━━━━━━━━━━━━━━━━━━\u001b[0m\u001b[37m\u001b[0m \u001b[1m1s\u001b[0m 16ms/step - acc: 1.0000 - loss: 1.4859e-05 - val_acc: 1.0000 - val_loss: 2.3198e-05 - learning_rate: 0.0010\n",
            "Epoch 136/200\n",
            "\u001b[1m74/74\u001b[0m \u001b[32m━━━━━━━━━━━━━━━━━━━━\u001b[0m\u001b[37m\u001b[0m \u001b[1m1s\u001b[0m 17ms/step - acc: 1.0000 - loss: 1.4116e-05 - val_acc: 1.0000 - val_loss: 2.1480e-05 - learning_rate: 0.0010\n",
            "Epoch 137/200\n",
            "\u001b[1m74/74\u001b[0m \u001b[32m━━━━━━━━━━━━━━━━━━━━\u001b[0m\u001b[37m\u001b[0m \u001b[1m1s\u001b[0m 16ms/step - acc: 1.0000 - loss: 1.2697e-05 - val_acc: 1.0000 - val_loss: 1.9049e-05 - learning_rate: 0.0010\n",
            "Epoch 138/200\n",
            "\u001b[1m74/74\u001b[0m \u001b[32m━━━━━━━━━━━━━━━━━━━━\u001b[0m\u001b[37m\u001b[0m \u001b[1m1s\u001b[0m 17ms/step - acc: 1.0000 - loss: 1.4764e-05 - val_acc: 1.0000 - val_loss: 1.7844e-05 - learning_rate: 0.0010\n",
            "Epoch 139/200\n",
            "\u001b[1m74/74\u001b[0m \u001b[32m━━━━━━━━━━━━━━━━━━━━\u001b[0m\u001b[37m\u001b[0m \u001b[1m1s\u001b[0m 17ms/step - acc: 1.0000 - loss: 1.1609e-05 - val_acc: 1.0000 - val_loss: 1.5953e-05 - learning_rate: 0.0010\n",
            "Epoch 140/200\n",
            "\u001b[1m74/74\u001b[0m \u001b[32m━━━━━━━━━━━━━━━━━━━━\u001b[0m\u001b[37m\u001b[0m \u001b[1m2s\u001b[0m 27ms/step - acc: 1.0000 - loss: 1.2564e-05 - val_acc: 1.0000 - val_loss: 1.4740e-05 - learning_rate: 0.0010\n",
            "Epoch 141/200\n",
            "\u001b[1m74/74\u001b[0m \u001b[32m━━━━━━━━━━━━━━━━━━━━\u001b[0m\u001b[37m\u001b[0m \u001b[1m2s\u001b[0m 27ms/step - acc: 1.0000 - loss: 1.0410e-05 - val_acc: 1.0000 - val_loss: 1.3518e-05 - learning_rate: 0.0010\n",
            "Epoch 142/200\n",
            "\u001b[1m74/74\u001b[0m \u001b[32m━━━━━━━━━━━━━━━━━━━━\u001b[0m\u001b[37m\u001b[0m \u001b[1m1s\u001b[0m 18ms/step - acc: 1.0000 - loss: 9.6271e-06 - val_acc: 1.0000 - val_loss: 1.1968e-05 - learning_rate: 0.0010\n",
            "Epoch 143/200\n",
            "\u001b[1m74/74\u001b[0m \u001b[32m━━━━━━━━━━━━━━━━━━━━\u001b[0m\u001b[37m\u001b[0m \u001b[1m2s\u001b[0m 17ms/step - acc: 1.0000 - loss: 7.5720e-06 - val_acc: 1.0000 - val_loss: 1.1210e-05 - learning_rate: 0.0010\n",
            "Epoch 144/200\n",
            "\u001b[1m74/74\u001b[0m \u001b[32m━━━━━━━━━━━━━━━━━━━━\u001b[0m\u001b[37m\u001b[0m \u001b[1m1s\u001b[0m 17ms/step - acc: 1.0000 - loss: 8.0521e-06 - val_acc: 1.0000 - val_loss: 1.0096e-05 - learning_rate: 0.0010\n",
            "Epoch 145/200\n",
            "\u001b[1m74/74\u001b[0m \u001b[32m━━━━━━━━━━━━━━━━━━━━\u001b[0m\u001b[37m\u001b[0m \u001b[1m1s\u001b[0m 17ms/step - acc: 1.0000 - loss: 7.8106e-06 - val_acc: 1.0000 - val_loss: 9.7843e-06 - learning_rate: 0.0010\n",
            "Epoch 146/200\n",
            "\u001b[1m74/74\u001b[0m \u001b[32m━━━━━━━━━━━━━━━━━━━━\u001b[0m\u001b[37m\u001b[0m \u001b[1m1s\u001b[0m 17ms/step - acc: 1.0000 - loss: 6.6607e-06 - val_acc: 1.0000 - val_loss: 8.2873e-06 - learning_rate: 0.0010\n",
            "Epoch 147/200\n",
            "\u001b[1m74/74\u001b[0m \u001b[32m━━━━━━━━━━━━━━━━━━━━\u001b[0m\u001b[37m\u001b[0m \u001b[1m1s\u001b[0m 16ms/step - acc: 1.0000 - loss: 6.3669e-06 - val_acc: 1.0000 - val_loss: 7.6879e-06 - learning_rate: 0.0010\n",
            "Epoch 148/200\n",
            "\u001b[1m74/74\u001b[0m \u001b[32m━━━━━━━━━━━━━━━━━━━━\u001b[0m\u001b[37m\u001b[0m \u001b[1m1s\u001b[0m 16ms/step - acc: 1.0000 - loss: 6.6399e-06 - val_acc: 1.0000 - val_loss: 6.9611e-06 - learning_rate: 0.0010\n",
            "Epoch 149/200\n",
            "\u001b[1m74/74\u001b[0m \u001b[32m━━━━━━━━━━━━━━━━━━━━\u001b[0m\u001b[37m\u001b[0m \u001b[1m2s\u001b[0m 27ms/step - acc: 1.0000 - loss: 6.6348e-06 - val_acc: 1.0000 - val_loss: 6.5390e-06 - learning_rate: 0.0010\n",
            "Epoch 150/200\n",
            "\u001b[1m74/74\u001b[0m \u001b[32m━━━━━━━━━━━━━━━━━━━━\u001b[0m\u001b[37m\u001b[0m \u001b[1m2s\u001b[0m 20ms/step - acc: 1.0000 - loss: 6.4742e-06 - val_acc: 1.0000 - val_loss: 5.9203e-06 - learning_rate: 0.0010\n",
            "Epoch 151/200\n",
            "\u001b[1m74/74\u001b[0m \u001b[32m━━━━━━━━━━━━━━━━━━━━\u001b[0m\u001b[37m\u001b[0m \u001b[1m2s\u001b[0m 17ms/step - acc: 1.0000 - loss: 6.4312e-06 - val_acc: 1.0000 - val_loss: 5.5192e-06 - learning_rate: 0.0010\n",
            "Epoch 152/200\n",
            "\u001b[1m74/74\u001b[0m \u001b[32m━━━━━━━━━━━━━━━━━━━━\u001b[0m\u001b[37m\u001b[0m \u001b[1m1s\u001b[0m 17ms/step - acc: 1.0000 - loss: 5.4303e-06 - val_acc: 1.0000 - val_loss: 5.2011e-06 - learning_rate: 0.0010\n",
            "Epoch 153/200\n",
            "\u001b[1m74/74\u001b[0m \u001b[32m━━━━━━━━━━━━━━━━━━━━\u001b[0m\u001b[37m\u001b[0m \u001b[1m1s\u001b[0m 17ms/step - acc: 1.0000 - loss: 6.8341e-06 - val_acc: 1.0000 - val_loss: 4.7373e-06 - learning_rate: 0.0010\n",
            "Epoch 154/200\n",
            "\u001b[1m74/74\u001b[0m \u001b[32m━━━━━━━━━━━━━━━━━━━━\u001b[0m\u001b[37m\u001b[0m \u001b[1m1s\u001b[0m 17ms/step - acc: 1.0000 - loss: 4.1384e-06 - val_acc: 1.0000 - val_loss: 4.5282e-06 - learning_rate: 0.0010\n",
            "Epoch 155/200\n",
            "\u001b[1m74/74\u001b[0m \u001b[32m━━━━━━━━━━━━━━━━━━━━\u001b[0m\u001b[37m\u001b[0m \u001b[1m1s\u001b[0m 17ms/step - acc: 1.0000 - loss: 4.1268e-06 - val_acc: 1.0000 - val_loss: 4.2037e-06 - learning_rate: 0.0010\n",
            "Epoch 156/200\n",
            "\u001b[1m74/74\u001b[0m \u001b[32m━━━━━━━━━━━━━━━━━━━━\u001b[0m\u001b[37m\u001b[0m \u001b[1m1s\u001b[0m 17ms/step - acc: 1.0000 - loss: 4.2213e-06 - val_acc: 1.0000 - val_loss: 3.9754e-06 - learning_rate: 0.0010\n",
            "Epoch 157/200\n",
            "\u001b[1m74/74\u001b[0m \u001b[32m━━━━━━━━━━━━━━━━━━━━\u001b[0m\u001b[37m\u001b[0m \u001b[1m2s\u001b[0m 25ms/step - acc: 1.0000 - loss: 3.9346e-06 - val_acc: 1.0000 - val_loss: 3.6875e-06 - learning_rate: 0.0010\n",
            "Epoch 158/200\n",
            "\u001b[1m74/74\u001b[0m \u001b[32m━━━━━━━━━━━━━━━━━━━━\u001b[0m\u001b[37m\u001b[0m \u001b[1m3s\u001b[0m 26ms/step - acc: 1.0000 - loss: 3.9013e-06 - val_acc: 1.0000 - val_loss: 3.5852e-06 - learning_rate: 0.0010\n",
            "Epoch 159/200\n",
            "\u001b[1m74/74\u001b[0m \u001b[32m━━━━━━━━━━━━━━━━━━━━\u001b[0m\u001b[37m\u001b[0m \u001b[1m2s\u001b[0m 17ms/step - acc: 1.0000 - loss: 3.7751e-06 - val_acc: 1.0000 - val_loss: 3.3088e-06 - learning_rate: 0.0010\n",
            "Epoch 160/200\n",
            "\u001b[1m74/74\u001b[0m \u001b[32m━━━━━━━━━━━━━━━━━━━━\u001b[0m\u001b[37m\u001b[0m \u001b[1m1s\u001b[0m 17ms/step - acc: 1.0000 - loss: 3.5843e-06 - val_acc: 1.0000 - val_loss: 3.1144e-06 - learning_rate: 0.0010\n",
            "Epoch 161/200\n",
            "\u001b[1m74/74\u001b[0m \u001b[32m━━━━━━━━━━━━━━━━━━━━\u001b[0m\u001b[37m\u001b[0m \u001b[1m1s\u001b[0m 17ms/step - acc: 1.0000 - loss: 3.8563e-06 - val_acc: 1.0000 - val_loss: 2.9645e-06 - learning_rate: 0.0010\n",
            "Epoch 162/200\n",
            "\u001b[1m74/74\u001b[0m \u001b[32m━━━━━━━━━━━━━━━━━━━━\u001b[0m\u001b[37m\u001b[0m \u001b[1m2s\u001b[0m 17ms/step - acc: 1.0000 - loss: 3.3270e-06 - val_acc: 1.0000 - val_loss: 2.8054e-06 - learning_rate: 0.0010\n",
            "Epoch 163/200\n",
            "\u001b[1m74/74\u001b[0m \u001b[32m━━━━━━━━━━━━━━━━━━━━\u001b[0m\u001b[37m\u001b[0m \u001b[1m1s\u001b[0m 17ms/step - acc: 1.0000 - loss: 3.0574e-06 - val_acc: 1.0000 - val_loss: 2.7256e-06 - learning_rate: 0.0010\n",
            "Epoch 164/200\n",
            "\u001b[1m74/74\u001b[0m \u001b[32m━━━━━━━━━━━━━━━━━━━━\u001b[0m\u001b[37m\u001b[0m \u001b[1m1s\u001b[0m 17ms/step - acc: 1.0000 - loss: 2.9390e-06 - val_acc: 1.0000 - val_loss: 2.5230e-06 - learning_rate: 0.0010\n",
            "Epoch 165/200\n",
            "\u001b[1m74/74\u001b[0m \u001b[32m━━━━━━━━━━━━━━━━━━━━\u001b[0m\u001b[37m\u001b[0m \u001b[1m3s\u001b[0m 25ms/step - acc: 1.0000 - loss: 3.2984e-06 - val_acc: 1.0000 - val_loss: 2.4084e-06 - learning_rate: 0.0010\n",
            "Epoch 166/200\n",
            "\u001b[1m74/74\u001b[0m \u001b[32m━━━━━━━━━━━━━━━━━━━━\u001b[0m\u001b[37m\u001b[0m \u001b[1m2s\u001b[0m 17ms/step - acc: 1.0000 - loss: 3.6680e-06 - val_acc: 1.0000 - val_loss: 2.2768e-06 - learning_rate: 0.0010\n",
            "Epoch 167/200\n",
            "\u001b[1m74/74\u001b[0m \u001b[32m━━━━━━━━━━━━━━━━━━━━\u001b[0m\u001b[37m\u001b[0m \u001b[1m1s\u001b[0m 17ms/step - acc: 1.0000 - loss: 2.5472e-06 - val_acc: 1.0000 - val_loss: 2.1805e-06 - learning_rate: 0.0010\n",
            "Epoch 168/200\n",
            "\u001b[1m74/74\u001b[0m \u001b[32m━━━━━━━━━━━━━━━━━━━━\u001b[0m\u001b[37m\u001b[0m \u001b[1m1s\u001b[0m 17ms/step - acc: 1.0000 - loss: 2.3473e-06 - val_acc: 1.0000 - val_loss: 2.0517e-06 - learning_rate: 0.0010\n",
            "Epoch 169/200\n",
            "\u001b[1m74/74\u001b[0m \u001b[32m━━━━━━━━━━━━━━━━━━━━\u001b[0m\u001b[37m\u001b[0m \u001b[1m1s\u001b[0m 17ms/step - acc: 1.0000 - loss: 2.6049e-06 - val_acc: 1.0000 - val_loss: 1.9687e-06 - learning_rate: 0.0010\n",
            "Epoch 170/200\n",
            "\u001b[1m74/74\u001b[0m \u001b[32m━━━━━━━━━━━━━━━━━━━━\u001b[0m\u001b[37m\u001b[0m \u001b[1m1s\u001b[0m 17ms/step - acc: 1.0000 - loss: 2.0535e-06 - val_acc: 1.0000 - val_loss: 1.8358e-06 - learning_rate: 0.0010\n",
            "Epoch 171/200\n",
            "\u001b[1m74/74\u001b[0m \u001b[32m━━━━━━━━━━━━━━━━━━━━\u001b[0m\u001b[37m\u001b[0m \u001b[1m1s\u001b[0m 17ms/step - acc: 1.0000 - loss: 2.4865e-06 - val_acc: 1.0000 - val_loss: 1.7500e-06 - learning_rate: 0.0010\n",
            "Epoch 172/200\n",
            "\u001b[1m74/74\u001b[0m \u001b[32m━━━━━━━━━━━━━━━━━━━━\u001b[0m\u001b[37m\u001b[0m \u001b[1m1s\u001b[0m 18ms/step - acc: 1.0000 - loss: 1.9203e-06 - val_acc: 1.0000 - val_loss: 1.6648e-06 - learning_rate: 0.0010\n",
            "Epoch 173/200\n",
            "\u001b[1m74/74\u001b[0m \u001b[32m━━━━━━━━━━━━━━━━━━━━\u001b[0m\u001b[37m\u001b[0m \u001b[1m3s\u001b[0m 28ms/step - acc: 1.0000 - loss: 1.6303e-06 - val_acc: 1.0000 - val_loss: 1.5960e-06 - learning_rate: 0.0010\n",
            "Epoch 174/200\n",
            "\u001b[1m74/74\u001b[0m \u001b[32m━━━━━━━━━━━━━━━━━━━━\u001b[0m\u001b[37m\u001b[0m \u001b[1m2s\u001b[0m 17ms/step - acc: 1.0000 - loss: 1.9233e-06 - val_acc: 1.0000 - val_loss: 1.4905e-06 - learning_rate: 0.0010\n",
            "Epoch 175/200\n",
            "\u001b[1m74/74\u001b[0m \u001b[32m━━━━━━━━━━━━━━━━━━━━\u001b[0m\u001b[37m\u001b[0m \u001b[1m3s\u001b[0m 17ms/step - acc: 1.0000 - loss: 1.6779e-06 - val_acc: 1.0000 - val_loss: 1.4144e-06 - learning_rate: 0.0010\n",
            "Epoch 176/200\n",
            "\u001b[1m74/74\u001b[0m \u001b[32m━━━━━━━━━━━━━━━━━━━━\u001b[0m\u001b[37m\u001b[0m \u001b[1m3s\u001b[0m 17ms/step - acc: 1.0000 - loss: 1.6758e-06 - val_acc: 1.0000 - val_loss: 1.3434e-06 - learning_rate: 0.0010\n",
            "Epoch 177/200\n",
            "\u001b[1m74/74\u001b[0m \u001b[32m━━━━━━━━━━━━━━━━━━━━\u001b[0m\u001b[37m\u001b[0m \u001b[1m1s\u001b[0m 18ms/step - acc: 1.0000 - loss: 1.4773e-06 - val_acc: 1.0000 - val_loss: 1.2741e-06 - learning_rate: 0.0010\n",
            "Epoch 178/200\n",
            "\u001b[1m74/74\u001b[0m \u001b[32m━━━━━━━━━━━━━━━━━━━━\u001b[0m\u001b[37m\u001b[0m \u001b[1m3s\u001b[0m 25ms/step - acc: 1.0000 - loss: 1.6653e-06 - val_acc: 1.0000 - val_loss: 1.2067e-06 - learning_rate: 0.0010\n",
            "Epoch 179/200\n",
            "\u001b[1m74/74\u001b[0m \u001b[32m━━━━━━━━━━━━━━━━━━━━\u001b[0m\u001b[37m\u001b[0m \u001b[1m2s\u001b[0m 28ms/step - acc: 1.0000 - loss: 1.5299e-06 - val_acc: 1.0000 - val_loss: 1.1609e-06 - learning_rate: 0.0010\n",
            "Epoch 180/200\n",
            "\u001b[1m74/74\u001b[0m \u001b[32m━━━━━━━━━━━━━━━━━━━━\u001b[0m\u001b[37m\u001b[0m \u001b[1m2s\u001b[0m 21ms/step - acc: 1.0000 - loss: 9.9646e-07 - val_acc: 1.0000 - val_loss: 1.0981e-06 - learning_rate: 0.0010\n",
            "Epoch 181/200\n",
            "\u001b[1m74/74\u001b[0m \u001b[32m━━━━━━━━━━━━━━━━━━━━\u001b[0m\u001b[37m\u001b[0m \u001b[1m2s\u001b[0m 17ms/step - acc: 1.0000 - loss: 1.3429e-06 - val_acc: 1.0000 - val_loss: 1.0628e-06 - learning_rate: 0.0010\n",
            "Epoch 182/200\n",
            "\u001b[1m74/74\u001b[0m \u001b[32m━━━━━━━━━━━━━━━━━━━━\u001b[0m\u001b[37m\u001b[0m \u001b[1m3s\u001b[0m 17ms/step - acc: 1.0000 - loss: 1.3423e-06 - val_acc: 1.0000 - val_loss: 9.8392e-07 - learning_rate: 0.0010\n",
            "Epoch 183/200\n",
            "\u001b[1m74/74\u001b[0m \u001b[32m━━━━━━━━━━━━━━━━━━━━\u001b[0m\u001b[37m\u001b[0m \u001b[1m1s\u001b[0m 17ms/step - acc: 1.0000 - loss: 1.6727e-06 - val_acc: 1.0000 - val_loss: 9.3807e-07 - learning_rate: 0.0010\n",
            "Epoch 184/200\n",
            "\u001b[1m74/74\u001b[0m \u001b[32m━━━━━━━━━━━━━━━━━━━━\u001b[0m\u001b[37m\u001b[0m \u001b[1m3s\u001b[0m 17ms/step - acc: 1.0000 - loss: 8.9853e-07 - val_acc: 1.0000 - val_loss: 8.8443e-07 - learning_rate: 0.0010\n",
            "Epoch 185/200\n",
            "\u001b[1m74/74\u001b[0m \u001b[32m━━━━━━━━━━━━━━━━━━━━\u001b[0m\u001b[37m\u001b[0m \u001b[1m4s\u001b[0m 31ms/step - acc: 1.0000 - loss: 9.2300e-07 - val_acc: 1.0000 - val_loss: 8.4638e-07 - learning_rate: 0.0010\n",
            "Epoch 186/200\n",
            "\u001b[1m74/74\u001b[0m \u001b[32m━━━━━━━━━━━━━━━━━━━━\u001b[0m\u001b[37m\u001b[0m \u001b[1m2s\u001b[0m 18ms/step - acc: 1.0000 - loss: 1.0291e-06 - val_acc: 1.0000 - val_loss: 7.9824e-07 - learning_rate: 0.0010\n",
            "Epoch 187/200\n",
            "\u001b[1m74/74\u001b[0m \u001b[32m━━━━━━━━━━━━━━━━━━━━\u001b[0m\u001b[37m\u001b[0m \u001b[1m2s\u001b[0m 17ms/step - acc: 1.0000 - loss: 8.3822e-07 - val_acc: 1.0000 - val_loss: 7.6156e-07 - learning_rate: 0.0010\n",
            "Epoch 188/200\n",
            "\u001b[1m74/74\u001b[0m \u001b[32m━━━━━━━━━━━━━━━━━━━━\u001b[0m\u001b[37m\u001b[0m \u001b[1m3s\u001b[0m 17ms/step - acc: 1.0000 - loss: 7.7901e-07 - val_acc: 1.0000 - val_loss: 7.1800e-07 - learning_rate: 0.0010\n",
            "Epoch 189/200\n",
            "\u001b[1m74/74\u001b[0m \u001b[32m━━━━━━━━━━━━━━━━━━━━\u001b[0m\u001b[37m\u001b[0m \u001b[1m3s\u001b[0m 17ms/step - acc: 1.0000 - loss: 8.5728e-07 - val_acc: 1.0000 - val_loss: 6.8178e-07 - learning_rate: 0.0010\n",
            "Epoch 190/200\n",
            "\u001b[1m74/74\u001b[0m \u001b[32m━━━━━━━━━━━━━━━━━━━━\u001b[0m\u001b[37m\u001b[0m \u001b[1m2s\u001b[0m 22ms/step - acc: 1.0000 - loss: 8.6810e-07 - val_acc: 1.0000 - val_loss: 6.1255e-07 - learning_rate: 0.0010\n",
            "Epoch 191/200\n",
            "\u001b[1m74/74\u001b[0m \u001b[32m━━━━━━━━━━━━━━━━━━━━\u001b[0m\u001b[37m\u001b[0m \u001b[1m2s\u001b[0m 27ms/step - acc: 1.0000 - loss: 7.6057e-07 - val_acc: 1.0000 - val_loss: 5.8275e-07 - learning_rate: 0.0010\n",
            "Epoch 192/200\n",
            "\u001b[1m74/74\u001b[0m \u001b[32m━━━━━━━━━━━━━━━━━━━━\u001b[0m\u001b[37m\u001b[0m \u001b[1m2s\u001b[0m 17ms/step - acc: 1.0000 - loss: 5.7580e-07 - val_acc: 1.0000 - val_loss: 5.5890e-07 - learning_rate: 0.0010\n",
            "Epoch 193/200\n",
            "\u001b[1m74/74\u001b[0m \u001b[32m━━━━━━━━━━━━━━━━━━━━\u001b[0m\u001b[37m\u001b[0m \u001b[1m1s\u001b[0m 17ms/step - acc: 1.0000 - loss: 6.6188e-07 - val_acc: 1.0000 - val_loss: 5.3002e-07 - learning_rate: 0.0010\n",
            "Epoch 194/200\n",
            "\u001b[1m74/74\u001b[0m \u001b[32m━━━━━━━━━━━━━━━━━━━━\u001b[0m\u001b[37m\u001b[0m \u001b[1m1s\u001b[0m 17ms/step - acc: 1.0000 - loss: 6.6326e-07 - val_acc: 1.0000 - val_loss: 5.0847e-07 - learning_rate: 0.0010\n",
            "Epoch 195/200\n",
            "\u001b[1m74/74\u001b[0m \u001b[32m━━━━━━━━━━━━━━━━━━━━\u001b[0m\u001b[37m\u001b[0m \u001b[1m3s\u001b[0m 17ms/step - acc: 1.0000 - loss: 6.2557e-07 - val_acc: 1.0000 - val_loss: 4.8555e-07 - learning_rate: 0.0010\n",
            "Epoch 196/200\n",
            "\u001b[1m74/74\u001b[0m \u001b[32m━━━━━━━━━━━━━━━━━━━━\u001b[0m\u001b[37m\u001b[0m \u001b[1m1s\u001b[0m 17ms/step - acc: 1.0000 - loss: 6.7057e-07 - val_acc: 1.0000 - val_loss: 4.6170e-07 - learning_rate: 0.0010\n",
            "Epoch 197/200\n",
            "\u001b[1m74/74\u001b[0m \u001b[32m━━━━━━━━━━━━━━━━━━━━\u001b[0m\u001b[37m\u001b[0m \u001b[1m1s\u001b[0m 17ms/step - acc: 1.0000 - loss: 6.5465e-07 - val_acc: 1.0000 - val_loss: 4.3970e-07 - learning_rate: 0.0010\n",
            "Epoch 198/200\n",
            "\u001b[1m74/74\u001b[0m \u001b[32m━━━━━━━━━━━━━━━━━━━━\u001b[0m\u001b[37m\u001b[0m \u001b[1m3s\u001b[0m 28ms/step - acc: 1.0000 - loss: 5.0437e-07 - val_acc: 1.0000 - val_loss: 4.1998e-07 - learning_rate: 0.0010\n",
            "Epoch 199/200\n",
            "\u001b[1m74/74\u001b[0m \u001b[32m━━━━━━━━━━━━━━━━━━━━\u001b[0m\u001b[37m\u001b[0m \u001b[1m2s\u001b[0m 17ms/step - acc: 1.0000 - loss: 5.1867e-07 - val_acc: 1.0000 - val_loss: 4.0027e-07 - learning_rate: 0.0010\n",
            "Epoch 200/200\n",
            "\u001b[1m74/74\u001b[0m \u001b[32m━━━━━━━━━━━━━━━━━━━━\u001b[0m\u001b[37m\u001b[0m \u001b[1m1s\u001b[0m 17ms/step - acc: 1.0000 - loss: 6.0548e-07 - val_acc: 1.0000 - val_loss: 3.8009e-07 - learning_rate: 0.0010\n"
          ]
        }
      ],
      "source": [
        "from tensorflow.keras.callbacks import ModelCheckpoint, ReduceLROnPlateau\n",
        "\n",
        "history = model.fit(\n",
        "    x_train,\n",
        "    y_train,\n",
        "    validation_data=(x_val, y_val),\n",
        "    epochs=200,\n",
        "    callbacks=[\n",
        "        ModelCheckpoint('models/model.keras', monitor='val_accuracy', verbose=1, save_best_only=True, mode='auto'),\n",
        "        ReduceLROnPlateau(monitor='val_accuracy', factor=0.5, patience=50, verbose=1, mode='auto')\n",
        "    ]\n",
        ")\n"
      ]
    },
    {
      "cell_type": "code",
      "execution_count": 9,
      "metadata": {
        "id": "PTQsDfjWmf8c",
        "outputId": "0e7f3cdc-96bf-403e-bec6-79bba4e184df",
        "colab": {
          "base_uri": "https://localhost:8080/",
          "height": 399
        }
      },
      "outputs": [
        {
          "output_type": "display_data",
          "data": {
            "text/plain": [
              "<Figure size 1600x1000 with 2 Axes>"
            ],
            "image/png": "[encoded data removed]"
          },
          "metadata": {}
        }
      ],
      "source": [
        "import matplotlib.pyplot as plt\n",
        "\n",
        "#학습결과 체크\n",
        "fig, loss_ax = plt.subplots(figsize=(16, 10))\n",
        "acc_ax = loss_ax.twinx()\n",
        "\n",
        "loss_ax.plot(history.history['loss'], 'y', label='train loss')\n",
        "loss_ax.plot(history.history['val_loss'], 'r', label='val loss')\n",
        "loss_ax.set_xlabel('epoch')\n",
        "loss_ax.set_ylabel('loss')\n",
        "loss_ax.legend(loc='upper left')\n",
        "\n",
        "acc_ax.plot(history.history['acc'], 'b', label='train acc')\n",
        "acc_ax.plot(history.history['val_acc'], 'g', label='val acc')\n",
        "acc_ax.set_ylabel('accuracy')\n",
        "acc_ax.legend(loc='upper left')\n",
        "\n",
        "plt.show()"
      ]
    },
    {
      "cell_type": "markdown",
      "source": [
        "모델저장해주기."
      ],
      "metadata": {
        "id": "hg3GtziHb7LI"
      }
    },
    {
      "cell_type": "code",
      "source": [
        "\n",
        "model.save('models/model.keras')"
      ],
      "metadata": {
        "id": "TWymVwA6b3wT"
      },
      "execution_count": 10,
      "outputs": []
    },
    {
      "cell_type": "code",
      "execution_count": 11,
      "metadata": {
        "id": "aXiKiI9vmf8c",
        "outputId": "062911f3-3191-4209-9cc0-43e7f5353f05",
        "colab": {
          "base_uri": "https://localhost:8080/"
        }
      },
      "outputs": [
        {
          "output_type": "stream",
          "name": "stdout",
          "text": [
            "\u001b[1m9/9\u001b[0m \u001b[32m━━━━━━━━━━━━━━━━━━━━\u001b[0m\u001b[37m\u001b[0m \u001b[1m0s\u001b[0m 29ms/step\n"
          ]
        },
        {
          "output_type": "execute_result",
          "data": {
            "text/plain": [
              "array([[[169,   0],\n",
              "        [  0,  91]],\n",
              "\n",
              "       [[164,   0],\n",
              "        [  0,  96]],\n",
              "\n",
              "       [[187,   0],\n",
              "        [  0,  73]]])"
            ]
          },
          "metadata": {},
          "execution_count": 11
        }
      ],
      "source": [
        "from sklearn.metrics import multilabel_confusion_matrix\n",
        "from tensorflow.keras.models import load_model\n",
        "\n",
        "#confusion matrix로 모델링결과 체크.\n",
        "\n",
        "model = load_model('models/model.keras')\n",
        "\n",
        "y_pred = model.predict(x_val)\n",
        "\n",
        "multilabel_confusion_matrix(np.argmax(y_val, axis=1), np.argmax(y_pred, axis=1))"
      ]
    }
  ],
  "metadata": {
    "kernelspec": {
      "display_name": "Python 3",
      "language": "python",
      "name": "python3"
    },
    "language_info": {
      "codemirror_mode": {
        "name": "ipython",
        "version": 3
      },
      "file_extension": ".py",
      "mimetype": "text/x-python",
      "name": "python",
      "nbconvert_exporter": "python",
      "pygments_lexer": "ipython3",
      "version": "3.6.9"
    },
    "colab": {
      "provenance": []
    }
  },
  "nbformat": 4,
  "nbformat_minor": 0
}